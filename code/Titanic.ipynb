{
 "cells": [
  {
   "cell_type": "markdown",
   "metadata": {},
   "source": [
    "# Titanic data project"
   ]
  },
  {
   "cell_type": "markdown",
   "metadata": {},
   "source": [
    "In this notebook the well renowned Titanic dataset will be imported and explored. \\\n",
    "The goal of this project is to achieve high classification accuracy using different sklearn models."
   ]
  },
  {
   "cell_type": "markdown",
   "metadata": {},
   "source": [
    "## Importing necessary libraries"
   ]
  },
  {
   "cell_type": "markdown",
   "metadata": {},
   "source": [
    "Importing libraries relevant for the whole exercise. \\\n",
    "Packages needed for specific usages will be imported in the relevant cells."
   ]
  },
  {
   "cell_type": "code",
   "execution_count": 3,
   "metadata": {},
   "outputs": [],
   "source": [
    "import numpy as np\n",
    "import pandas as pd\n",
    "import matplotlib.pyplot as plt\n",
    "%matplotlib inline"
   ]
  },
  {
   "cell_type": "markdown",
   "metadata": {},
   "source": [
    "## Importing data"
   ]
  },
  {
   "cell_type": "markdown",
   "metadata": {},
   "source": [
    "In this part we use the already splitted data given in the Madors' exercise, since we want our train-test split to contain the same samples."
   ]
  },
  {
   "cell_type": "code",
   "execution_count": 4,
   "metadata": {},
   "outputs": [],
   "source": [
    "path_train = \"../data/train.csv\"\n",
    "path_test = \"../data/test.csv\"\n",
    "train = pd.read_csv(path_train)\n",
    "test = pd.read_csv(path_test)"
   ]
  },
  {
   "cell_type": "markdown",
   "metadata": {},
   "source": [
    "Lets take a quick peak at the data"
   ]
  },
  {
   "cell_type": "code",
   "execution_count": 5,
   "metadata": {},
   "outputs": [
    {
     "data": {
      "text/html": [
       "<div>\n",
       "<style scoped>\n",
       "    .dataframe tbody tr th:only-of-type {\n",
       "        vertical-align: middle;\n",
       "    }\n",
       "\n",
       "    .dataframe tbody tr th {\n",
       "        vertical-align: top;\n",
       "    }\n",
       "\n",
       "    .dataframe thead th {\n",
       "        text-align: right;\n",
       "    }\n",
       "</style>\n",
       "<table border=\"1\" class=\"dataframe\">\n",
       "  <thead>\n",
       "    <tr style=\"text-align: right;\">\n",
       "      <th></th>\n",
       "      <th>Survived</th>\n",
       "      <th>Pclass</th>\n",
       "      <th>Name</th>\n",
       "      <th>Sex</th>\n",
       "      <th>Age</th>\n",
       "      <th>SibSp</th>\n",
       "      <th>Parch</th>\n",
       "      <th>Ticket</th>\n",
       "      <th>Fare</th>\n",
       "      <th>Cabin</th>\n",
       "      <th>Embarked</th>\n",
       "    </tr>\n",
       "  </thead>\n",
       "  <tbody>\n",
       "    <tr>\n",
       "      <th>0</th>\n",
       "      <td>1</td>\n",
       "      <td>1</td>\n",
       "      <td>Cleaver, Miss. Alice</td>\n",
       "      <td>female</td>\n",
       "      <td>22.0</td>\n",
       "      <td>0</td>\n",
       "      <td>0</td>\n",
       "      <td>113781</td>\n",
       "      <td>151.5500</td>\n",
       "      <td>NaN</td>\n",
       "      <td>S</td>\n",
       "    </tr>\n",
       "    <tr>\n",
       "      <th>1</th>\n",
       "      <td>0</td>\n",
       "      <td>2</td>\n",
       "      <td>Hunt, Mr. George Henry</td>\n",
       "      <td>male</td>\n",
       "      <td>33.0</td>\n",
       "      <td>0</td>\n",
       "      <td>0</td>\n",
       "      <td>SCO/W 1585</td>\n",
       "      <td>12.2750</td>\n",
       "      <td>NaN</td>\n",
       "      <td>S</td>\n",
       "    </tr>\n",
       "    <tr>\n",
       "      <th>2</th>\n",
       "      <td>1</td>\n",
       "      <td>3</td>\n",
       "      <td>Nakid, Miss. Maria (\"Mary\")</td>\n",
       "      <td>female</td>\n",
       "      <td>1.0</td>\n",
       "      <td>0</td>\n",
       "      <td>2</td>\n",
       "      <td>2653</td>\n",
       "      <td>15.7417</td>\n",
       "      <td>NaN</td>\n",
       "      <td>C</td>\n",
       "    </tr>\n",
       "    <tr>\n",
       "      <th>3</th>\n",
       "      <td>0</td>\n",
       "      <td>3</td>\n",
       "      <td>Sage, Miss. Stella Anna</td>\n",
       "      <td>female</td>\n",
       "      <td>NaN</td>\n",
       "      <td>8</td>\n",
       "      <td>2</td>\n",
       "      <td>CA. 2343</td>\n",
       "      <td>69.5500</td>\n",
       "      <td>NaN</td>\n",
       "      <td>S</td>\n",
       "    </tr>\n",
       "    <tr>\n",
       "      <th>4</th>\n",
       "      <td>0</td>\n",
       "      <td>2</td>\n",
       "      <td>Mitchell, Mr. Henry Michael</td>\n",
       "      <td>male</td>\n",
       "      <td>70.0</td>\n",
       "      <td>0</td>\n",
       "      <td>0</td>\n",
       "      <td>C.A. 24580</td>\n",
       "      <td>10.5000</td>\n",
       "      <td>NaN</td>\n",
       "      <td>S</td>\n",
       "    </tr>\n",
       "    <tr>\n",
       "      <th>...</th>\n",
       "      <td>...</td>\n",
       "      <td>...</td>\n",
       "      <td>...</td>\n",
       "      <td>...</td>\n",
       "      <td>...</td>\n",
       "      <td>...</td>\n",
       "      <td>...</td>\n",
       "      <td>...</td>\n",
       "      <td>...</td>\n",
       "      <td>...</td>\n",
       "      <td>...</td>\n",
       "    </tr>\n",
       "    <tr>\n",
       "      <th>95</th>\n",
       "      <td>0</td>\n",
       "      <td>2</td>\n",
       "      <td>Ponesell, Mr. Martin</td>\n",
       "      <td>male</td>\n",
       "      <td>34.0</td>\n",
       "      <td>0</td>\n",
       "      <td>0</td>\n",
       "      <td>250647</td>\n",
       "      <td>13.0000</td>\n",
       "      <td>NaN</td>\n",
       "      <td>S</td>\n",
       "    </tr>\n",
       "    <tr>\n",
       "      <th>96</th>\n",
       "      <td>0</td>\n",
       "      <td>3</td>\n",
       "      <td>Christmann, Mr. Emil</td>\n",
       "      <td>male</td>\n",
       "      <td>29.0</td>\n",
       "      <td>0</td>\n",
       "      <td>0</td>\n",
       "      <td>343276</td>\n",
       "      <td>8.0500</td>\n",
       "      <td>NaN</td>\n",
       "      <td>S</td>\n",
       "    </tr>\n",
       "    <tr>\n",
       "      <th>97</th>\n",
       "      <td>0</td>\n",
       "      <td>3</td>\n",
       "      <td>Augustsson, Mr. Albert</td>\n",
       "      <td>male</td>\n",
       "      <td>23.0</td>\n",
       "      <td>0</td>\n",
       "      <td>0</td>\n",
       "      <td>347468</td>\n",
       "      <td>7.8542</td>\n",
       "      <td>NaN</td>\n",
       "      <td>S</td>\n",
       "    </tr>\n",
       "    <tr>\n",
       "      <th>98</th>\n",
       "      <td>0</td>\n",
       "      <td>2</td>\n",
       "      <td>Pernot, Mr. Rene</td>\n",
       "      <td>male</td>\n",
       "      <td>NaN</td>\n",
       "      <td>0</td>\n",
       "      <td>0</td>\n",
       "      <td>SC/PARIS 2131</td>\n",
       "      <td>15.0500</td>\n",
       "      <td>NaN</td>\n",
       "      <td>C</td>\n",
       "    </tr>\n",
       "    <tr>\n",
       "      <th>99</th>\n",
       "      <td>0</td>\n",
       "      <td>3</td>\n",
       "      <td>Scanlan, Mr. James</td>\n",
       "      <td>male</td>\n",
       "      <td>NaN</td>\n",
       "      <td>0</td>\n",
       "      <td>0</td>\n",
       "      <td>36209</td>\n",
       "      <td>7.7250</td>\n",
       "      <td>NaN</td>\n",
       "      <td>Q</td>\n",
       "    </tr>\n",
       "  </tbody>\n",
       "</table>\n",
       "<p>100 rows × 11 columns</p>\n",
       "</div>"
      ],
      "text/plain": [
       "    Survived  Pclass                         Name     Sex   Age  SibSp  Parch  \\\n",
       "0          1       1         Cleaver, Miss. Alice  female  22.0      0      0   \n",
       "1          0       2       Hunt, Mr. George Henry    male  33.0      0      0   \n",
       "2          1       3  Nakid, Miss. Maria (\"Mary\")  female   1.0      0      2   \n",
       "3          0       3      Sage, Miss. Stella Anna  female   NaN      8      2   \n",
       "4          0       2  Mitchell, Mr. Henry Michael    male  70.0      0      0   \n",
       "..       ...     ...                          ...     ...   ...    ...    ...   \n",
       "95         0       2         Ponesell, Mr. Martin    male  34.0      0      0   \n",
       "96         0       3         Christmann, Mr. Emil    male  29.0      0      0   \n",
       "97         0       3       Augustsson, Mr. Albert    male  23.0      0      0   \n",
       "98         0       2             Pernot, Mr. Rene    male   NaN      0      0   \n",
       "99         0       3           Scanlan, Mr. James    male   NaN      0      0   \n",
       "\n",
       "           Ticket      Fare Cabin Embarked  \n",
       "0          113781  151.5500   NaN        S  \n",
       "1      SCO/W 1585   12.2750   NaN        S  \n",
       "2            2653   15.7417   NaN        C  \n",
       "3        CA. 2343   69.5500   NaN        S  \n",
       "4      C.A. 24580   10.5000   NaN        S  \n",
       "..            ...       ...   ...      ...  \n",
       "95         250647   13.0000   NaN        S  \n",
       "96         343276    8.0500   NaN        S  \n",
       "97         347468    7.8542   NaN        S  \n",
       "98  SC/PARIS 2131   15.0500   NaN        C  \n",
       "99          36209    7.7250   NaN        Q  \n",
       "\n",
       "[100 rows x 11 columns]"
      ]
     },
     "execution_count": 5,
     "metadata": {},
     "output_type": "execute_result"
    }
   ],
   "source": [
    "train.head(100)"
   ]
  },
  {
   "cell_type": "markdown",
   "metadata": {},
   "source": [
    "## Data Cleaning "
   ]
  },
  {
   "cell_type": "markdown",
   "metadata": {},
   "source": [
    "K den, we need to remove irrelevant fields and change the notation of some fields."
   ]
  },
  {
   "cell_type": "code",
   "execution_count": 6,
   "metadata": {},
   "outputs": [
    {
     "data": {
      "text/html": [
       "<div>\n",
       "<style scoped>\n",
       "    .dataframe tbody tr th:only-of-type {\n",
       "        vertical-align: middle;\n",
       "    }\n",
       "\n",
       "    .dataframe tbody tr th {\n",
       "        vertical-align: top;\n",
       "    }\n",
       "\n",
       "    .dataframe thead th {\n",
       "        text-align: right;\n",
       "    }\n",
       "</style>\n",
       "<table border=\"1\" class=\"dataframe\">\n",
       "  <thead>\n",
       "    <tr style=\"text-align: right;\">\n",
       "      <th></th>\n",
       "      <th>Survived</th>\n",
       "      <th>Pclass</th>\n",
       "      <th>Name</th>\n",
       "      <th>Sex</th>\n",
       "      <th>Age</th>\n",
       "      <th>SibSp</th>\n",
       "      <th>Parch</th>\n",
       "      <th>Fare</th>\n",
       "      <th>Embarked</th>\n",
       "    </tr>\n",
       "  </thead>\n",
       "  <tbody>\n",
       "    <tr>\n",
       "      <th>0</th>\n",
       "      <td>1</td>\n",
       "      <td>1</td>\n",
       "      <td>Cleaver, Miss. Alice</td>\n",
       "      <td>female</td>\n",
       "      <td>22.0</td>\n",
       "      <td>0</td>\n",
       "      <td>0</td>\n",
       "      <td>151.5500</td>\n",
       "      <td>S</td>\n",
       "    </tr>\n",
       "    <tr>\n",
       "      <th>1</th>\n",
       "      <td>0</td>\n",
       "      <td>2</td>\n",
       "      <td>Hunt, Mr. George Henry</td>\n",
       "      <td>male</td>\n",
       "      <td>33.0</td>\n",
       "      <td>0</td>\n",
       "      <td>0</td>\n",
       "      <td>12.2750</td>\n",
       "      <td>S</td>\n",
       "    </tr>\n",
       "    <tr>\n",
       "      <th>2</th>\n",
       "      <td>1</td>\n",
       "      <td>3</td>\n",
       "      <td>Nakid, Miss. Maria (\"Mary\")</td>\n",
       "      <td>female</td>\n",
       "      <td>1.0</td>\n",
       "      <td>0</td>\n",
       "      <td>2</td>\n",
       "      <td>15.7417</td>\n",
       "      <td>C</td>\n",
       "    </tr>\n",
       "    <tr>\n",
       "      <th>3</th>\n",
       "      <td>0</td>\n",
       "      <td>3</td>\n",
       "      <td>Sage, Miss. Stella Anna</td>\n",
       "      <td>female</td>\n",
       "      <td>NaN</td>\n",
       "      <td>8</td>\n",
       "      <td>2</td>\n",
       "      <td>69.5500</td>\n",
       "      <td>S</td>\n",
       "    </tr>\n",
       "    <tr>\n",
       "      <th>4</th>\n",
       "      <td>0</td>\n",
       "      <td>2</td>\n",
       "      <td>Mitchell, Mr. Henry Michael</td>\n",
       "      <td>male</td>\n",
       "      <td>70.0</td>\n",
       "      <td>0</td>\n",
       "      <td>0</td>\n",
       "      <td>10.5000</td>\n",
       "      <td>S</td>\n",
       "    </tr>\n",
       "  </tbody>\n",
       "</table>\n",
       "</div>"
      ],
      "text/plain": [
       "   Survived  Pclass                         Name     Sex   Age  SibSp  Parch  \\\n",
       "0         1       1         Cleaver, Miss. Alice  female  22.0      0      0   \n",
       "1         0       2       Hunt, Mr. George Henry    male  33.0      0      0   \n",
       "2         1       3  Nakid, Miss. Maria (\"Mary\")  female   1.0      0      2   \n",
       "3         0       3      Sage, Miss. Stella Anna  female   NaN      8      2   \n",
       "4         0       2  Mitchell, Mr. Henry Michael    male  70.0      0      0   \n",
       "\n",
       "       Fare Embarked  \n",
       "0  151.5500        S  \n",
       "1   12.2750        S  \n",
       "2   15.7417        C  \n",
       "3   69.5500        S  \n",
       "4   10.5000        S  "
      ]
     },
     "execution_count": 6,
     "metadata": {},
     "output_type": "execute_result"
    }
   ],
   "source": [
    "# first we remove the features that wont help us, and mostly have missing values.\n",
    "\n",
    "train.drop([\"Cabin\", \"Ticket\"], axis=1, inplace=True)\n",
    "test.drop([\"Cabin\", \"Ticket\"], axis=1, inplace=True)\n",
    "train.reset_index(drop=True, inplace=True)\n",
    "test.reset_index(drop=True, inplace=True)\n",
    "train.head(5)"
   ]
  },
  {
   "cell_type": "markdown",
   "metadata": {},
   "source": [
    "Now lets see how many NaN values we have in the table (should we drop 'em?)"
   ]
  },
  {
   "cell_type": "code",
   "execution_count": 7,
   "metadata": {},
   "outputs": [
    {
     "name": "stdout",
     "output_type": "stream",
     "text": [
      "There are 712 entries in the training set.\n"
     ]
    },
    {
     "data": {
      "text/plain": [
       "Survived      0\n",
       "Pclass        0\n",
       "Name          0\n",
       "Sex           0\n",
       "Age         138\n",
       "SibSp         0\n",
       "Parch         0\n",
       "Fare          0\n",
       "Embarked      2\n",
       "dtype: int64"
      ]
     },
     "execution_count": 7,
     "metadata": {},
     "output_type": "execute_result"
    }
   ],
   "source": [
    "num_of_nan = train.isnull().sum(axis = 0)\n",
    "print(f\"There are {train.shape[0]} entries in the training set.\")\n",
    "num_of_nan"
   ]
  },
  {
   "cell_type": "markdown",
   "metadata": {},
   "source": [
    "* Well, thats kinda sux. we'll have to think what to do with this missing data. \n",
    "* Age seems to be somewhat informative so maybe dropping it will be a bad idea. We will do it now anyways as a naive solution \\\n",
    "Idea to try later: train a regression model to predict the age using the other features. \\\n",
    "Also: maybe trying to use last names in order to extract family relations\n",
    "* There are only 2 missing values in the \"Embarked\" column so we can just drop it."
   ]
  },
  {
   "cell_type": "code",
   "execution_count": 8,
   "metadata": {},
   "outputs": [
    {
     "name": "stdout",
     "output_type": "stream",
     "text": [
      "There are 710 entries in the training set.\n"
     ]
    }
   ],
   "source": [
    "train.dropna(subset=[\"Embarked\"], inplace=True)\n",
    "# Sanity check\n",
    "num_of_nan = train.isnull().sum(axis = 0)\n",
    "print(f\"There are {train.shape[0]} entries in the training set.\")\n",
    "num_of_nan\n",
    "train.reset_index(drop=True, inplace=True)"
   ]
  },
  {
   "cell_type": "markdown",
   "metadata": {},
   "source": [
    "Noice! \\\n",
    "Next we encode categorical features with numerical values \n",
    "* \"Embarked\" will be converted to 1-hot vector after the visualizations.\n",
    "* We mark female as 0 and male as 1"
   ]
  },
  {
   "cell_type": "code",
   "execution_count": 9,
   "metadata": {},
   "outputs": [
    {
     "data": {
      "text/html": [
       "<div>\n",
       "<style scoped>\n",
       "    .dataframe tbody tr th:only-of-type {\n",
       "        vertical-align: middle;\n",
       "    }\n",
       "\n",
       "    .dataframe tbody tr th {\n",
       "        vertical-align: top;\n",
       "    }\n",
       "\n",
       "    .dataframe thead th {\n",
       "        text-align: right;\n",
       "    }\n",
       "</style>\n",
       "<table border=\"1\" class=\"dataframe\">\n",
       "  <thead>\n",
       "    <tr style=\"text-align: right;\">\n",
       "      <th></th>\n",
       "      <th>Survived</th>\n",
       "      <th>Pclass</th>\n",
       "      <th>Name</th>\n",
       "      <th>Sex</th>\n",
       "      <th>Age</th>\n",
       "      <th>SibSp</th>\n",
       "      <th>Parch</th>\n",
       "      <th>Fare</th>\n",
       "      <th>Embarked</th>\n",
       "    </tr>\n",
       "  </thead>\n",
       "  <tbody>\n",
       "    <tr>\n",
       "      <th>0</th>\n",
       "      <td>1</td>\n",
       "      <td>1</td>\n",
       "      <td>Cleaver, Miss. Alice</td>\n",
       "      <td>0</td>\n",
       "      <td>22.0</td>\n",
       "      <td>0</td>\n",
       "      <td>0</td>\n",
       "      <td>151.5500</td>\n",
       "      <td>1</td>\n",
       "    </tr>\n",
       "    <tr>\n",
       "      <th>1</th>\n",
       "      <td>0</td>\n",
       "      <td>2</td>\n",
       "      <td>Hunt, Mr. George Henry</td>\n",
       "      <td>1</td>\n",
       "      <td>33.0</td>\n",
       "      <td>0</td>\n",
       "      <td>0</td>\n",
       "      <td>12.2750</td>\n",
       "      <td>1</td>\n",
       "    </tr>\n",
       "    <tr>\n",
       "      <th>2</th>\n",
       "      <td>1</td>\n",
       "      <td>3</td>\n",
       "      <td>Nakid, Miss. Maria (\"Mary\")</td>\n",
       "      <td>0</td>\n",
       "      <td>1.0</td>\n",
       "      <td>0</td>\n",
       "      <td>2</td>\n",
       "      <td>15.7417</td>\n",
       "      <td>0</td>\n",
       "    </tr>\n",
       "    <tr>\n",
       "      <th>3</th>\n",
       "      <td>0</td>\n",
       "      <td>3</td>\n",
       "      <td>Sage, Miss. Stella Anna</td>\n",
       "      <td>0</td>\n",
       "      <td>NaN</td>\n",
       "      <td>8</td>\n",
       "      <td>2</td>\n",
       "      <td>69.5500</td>\n",
       "      <td>1</td>\n",
       "    </tr>\n",
       "    <tr>\n",
       "      <th>4</th>\n",
       "      <td>0</td>\n",
       "      <td>2</td>\n",
       "      <td>Mitchell, Mr. Henry Michael</td>\n",
       "      <td>1</td>\n",
       "      <td>70.0</td>\n",
       "      <td>0</td>\n",
       "      <td>0</td>\n",
       "      <td>10.5000</td>\n",
       "      <td>1</td>\n",
       "    </tr>\n",
       "  </tbody>\n",
       "</table>\n",
       "</div>"
      ],
      "text/plain": [
       "   Survived  Pclass                         Name  Sex   Age  SibSp  Parch  \\\n",
       "0         1       1         Cleaver, Miss. Alice    0  22.0      0      0   \n",
       "1         0       2       Hunt, Mr. George Henry    1  33.0      0      0   \n",
       "2         1       3  Nakid, Miss. Maria (\"Mary\")    0   1.0      0      2   \n",
       "3         0       3      Sage, Miss. Stella Anna    0   NaN      8      2   \n",
       "4         0       2  Mitchell, Mr. Henry Michael    1  70.0      0      0   \n",
       "\n",
       "       Fare  Embarked  \n",
       "0  151.5500         1  \n",
       "1   12.2750         1  \n",
       "2   15.7417         0  \n",
       "3   69.5500         1  \n",
       "4   10.5000         1  "
      ]
     },
     "execution_count": 9,
     "metadata": {},
     "output_type": "execute_result"
    }
   ],
   "source": [
    "train[\"Sex\"].replace({\"female\":0, \"male\":1}, inplace=True)\n",
    "test[\"Sex\"].replace({\"female\":0, \"male\":1}, inplace=True)\n",
    "train[\"Embarked\"].replace({\"C\":0, \"S\":1, \"Q\":2}, inplace=True)\n",
    "test[\"Embarked\"].replace({\"C\":0, \"S\":1, \"Q\":2}, inplace=True)\n",
    "train.head(5)"
   ]
  },
  {
   "cell_type": "markdown",
   "metadata": {},
   "source": [
    "Almost done cleaning. Later we'll also deal with the missing age. \\\n",
    "Time to plot some pretty graphs"
   ]
  },
  {
   "cell_type": "markdown",
   "metadata": {},
   "source": [
    "Splitting the DataFrame to X and y and we are done!"
   ]
  },
  {
   "cell_type": "code",
   "execution_count": 10,
   "metadata": {},
   "outputs": [],
   "source": [
    "X_train = train.drop([\"Survived\"], axis=1)\n",
    "y_train = train[\"Survived\"]\n",
    "X_test = test.drop([\"Survived\"], axis=1)\n",
    "y_test = test[\"Survived\"]"
   ]
  },
  {
   "cell_type": "markdown",
   "metadata": {},
   "source": [
    "checking whether the data is balanced:\n"
   ]
  },
  {
   "cell_type": "code",
   "execution_count": 11,
   "metadata": {},
   "outputs": [
    {
     "data": {
      "text/plain": [
       "37.605633802816904"
      ]
     },
     "execution_count": 11,
     "metadata": {},
     "output_type": "execute_result"
    }
   ],
   "source": [
    "np.sum(y_train)/len(y_train)*100"
   ]
  },
  {
   "cell_type": "markdown",
   "metadata": {},
   "source": [
    "Well, only 37.61% of the people in the training set lived. this is not a balanced dataset, while not being crazy-unbalanced as well. \\\n",
    "Let's keep that in mind for when we train our classifiers..."
   ]
  },
  {
   "cell_type": "markdown",
   "metadata": {},
   "source": [
    "## Data exploration and visualization"
   ]
  },
  {
   "cell_type": "markdown",
   "metadata": {},
   "source": [
    "Let's start by trying to get a grasp as to how hard should the data be to seperate, using T-SNE. \\\n",
    "For T-SNE we should first rescale the features in order to ensure they all have the same impact"
   ]
  },
  {
   "cell_type": "code",
   "execution_count": 12,
   "metadata": {},
   "outputs": [
    {
     "data": {
      "image/png": "[encoded data removed]",
      "text/plain": [
       "<Figure size 360x360 with 1 Axes>"
      ]
     },
     "metadata": {
      "needs_background": "light"
     },
     "output_type": "display_data"
    }
   ],
   "source": [
    "from sklearn.preprocessing import normalize\n",
    "from sklearn.manifold import TSNE\n",
    "\n",
    "train_without_na = train.dropna(subset=[\"Age\"])\n",
    "X_train_without_na = train_without_na.drop([\"Survived\",\"Name\"], axis=1)\n",
    "y_train_without_na = train_without_na[\"Survived\"]\n",
    "\n",
    "X_normalized = normalize(X_train_without_na)\n",
    "X_embedded = TSNE(perplexity=14, n_iter=300).fit_transform(X_normalized)\n",
    "plt.figure(linewidth=2, edgecolor=\"#04253a\", figsize=(5,5))\n",
    "plt.scatter(X_embedded[y_train_without_na == 1, 0], X_embedded[y_train_without_na == 1, 1], marker='+')\n",
    "plt.scatter(X_embedded[y_train_without_na == 0, 0], X_embedded[y_train_without_na == 0, 1], marker='3')\n",
    "plt.axis(\"off\")\n",
    "plt.title(\"2-D represntation of the data\")\n",
    "plt.show()"
   ]
  },
  {
   "cell_type": "markdown",
   "metadata": {},
   "source": [
    "Looks somewhat seperable. Tbh, there is not much to learn from it. "
   ]
  },
  {
   "cell_type": "markdown",
   "metadata": {},
   "source": [
    "### Histograms of the contiguous features\n"
   ]
  },
  {
   "cell_type": "code",
   "execution_count": 13,
   "metadata": {},
   "outputs": [
    {
     "data": {
      "image/png": "[encoded data removed]",
      "text/plain": [
       "<Figure size 720x360 with 2 Axes>"
      ]
     },
     "metadata": {
      "needs_background": "light"
     },
     "output_type": "display_data"
    }
   ],
   "source": [
    "import seaborn as sns\n",
    "\n",
    "\n",
    "sns.displot(data=train,x=\"Age\",hue=\"Survived\", alpha=0.4,palette=['g','m'],legend=False,col=\"Sex\")\n",
    "plt.legend([\"died\", \"lived\"])\n",
    "plt.show()"
   ]
  },
  {
   "cell_type": "markdown",
   "metadata": {},
   "source": [
    "Notice that most of the men who survived are either young kids, or young men - which means they could use physical strength in order to find their way to a boat (maybe?), \\\n",
    "this idea is supported by the fact that men over the age of 50 are extremly likely to end up dead in this case"
   ]
  },
  {
   "cell_type": "code",
   "execution_count": 14,
   "metadata": {},
   "outputs": [
    {
     "data": {
      "image/png": "[encoded data removed]",
      "text/plain": [
       "<Figure size 360x360 with 1 Axes>"
      ]
     },
     "metadata": {
      "needs_background": "light"
     },
     "output_type": "display_data"
    }
   ],
   "source": [
    "ax = sns.displot(data=train,x=\"Fare\",hue=\"Survived\", alpha=0.4, palette=['g','m'],legend=False)\n",
    "plt.legend([\"died\", \"lived\"])\n",
    "plt.title(\"Fare\")\n",
    "ax.set(xlim=(0, 175))\n",
    "plt.show()"
   ]
  },
  {
   "cell_type": "code",
   "execution_count": 15,
   "metadata": {},
   "outputs": [
    {
     "data": {
      "image/png": "[encoded data removed]",
      "text/plain": [
       "<Figure size 720x360 with 2 Axes>"
      ]
     },
     "metadata": {
      "needs_background": "light"
     },
     "output_type": "display_data"
    }
   ],
   "source": [
    "# reminder: SibSp = Number of Siblings/Spouses Aboard\n",
    "ax = sns.displot(data=train,x=\"SibSp\",hue=\"Survived\", alpha=0.4, palette=['g','m'],legend=False, bins=5,shrink=.9,col=\"Sex\")\n",
    "plt.legend([\"died\", \"lived\"])\n",
    "plt.show()"
   ]
  },
  {
   "cell_type": "markdown",
   "metadata": {},
   "source": [
    "This graph results in a nice idea - we can see that whenever a female has more than 1 SibSp member with her on board - she is very likely to live! \\\n",
    "From this graph and the one following 3 features will be constructed:\n",
    "* Single - if someone is alone onboard\n",
    "* Lot_Sib - (=Lots of siblings) SibSp>=2\n",
    "* Lot_Child - (=Lots of children) Parch >= 4"
   ]
  },
  {
   "cell_type": "code",
   "execution_count": 16,
   "metadata": {},
   "outputs": [
    {
     "data": {
      "image/png": "[encoded data removed]",
      "text/plain": [
       "<Figure size 360x360 with 1 Axes>"
      ]
     },
     "metadata": {
      "needs_background": "light"
     },
     "output_type": "display_data"
    }
   ],
   "source": [
    "# reminder: Parch = Number of Parents/Children Aboard\n",
    "ax = sns.displot(data=train,x=\"Parch\",hue=\"Survived\", alpha=0.4, palette=['g','m'],legend=False, bins=6,shrink=.9)\n",
    "plt.legend([\"died\", \"lived\"])\n",
    "plt.show()"
   ]
  },
  {
   "cell_type": "markdown",
   "metadata": {},
   "source": [
    "This result is not suprising - it is likely that whoever had children or old parents to take care of had a lower chance of survival"
   ]
  },
  {
   "cell_type": "code",
   "execution_count": 17,
   "metadata": {},
   "outputs": [
    {
     "data": {
      "image/png": "[encoded data removed]",
      "text/plain": [
       "<Figure size 360x360 with 1 Axes>"
      ]
     },
     "metadata": {
      "needs_background": "light"
     },
     "output_type": "display_data"
    }
   ],
   "source": [
    "tmp_train = train.copy()\n",
    "tmp_train[\"Fam_size\"] = tmp_train[\"SibSp\"] + tmp_train[\"Parch\"]\n",
    "ax = sns.displot(data=tmp_train,x=\"Fam_size\",hue=\"Survived\", alpha=0.4, palette=['g','m'],legend=False, bins=7,shrink=.9)\n",
    "plt.legend([\"died\", \"lived\"])\n",
    "plt.show()"
   ]
  },
  {
   "cell_type": "markdown",
   "metadata": {},
   "source": [
    "From the above graph another feature will be constructed: \n",
    "* Big_Fam - (=Big family) Fam_Size>=4"
   ]
  },
  {
   "cell_type": "markdown",
   "metadata": {},
   "source": [
    "### Pair plots\n",
    "* first, couples of Categorical and Continuous features"
   ]
  },
  {
   "cell_type": "code",
   "execution_count": 18,
   "metadata": {},
   "outputs": [
    {
     "data": {
      "image/png": "[encoded data removed]",
      "text/plain": [
       "<Figure size 1584x432 with 10 Axes>"
      ]
     },
     "metadata": {
      "needs_background": "light"
     },
     "output_type": "display_data"
    }
   ],
   "source": [
    "num_vars = ['Age', 'Fare']\n",
    "cat_vars = ['Pclass', 'Embarked', 'Sex', \"SibSp\",\"Parch\"]\n",
    "\n",
    "\n",
    "plt.figure(figsize=(22,6))\n",
    "\n",
    "for j,cont_variable in enumerate(num_vars):\n",
    "    for i,cat_variable in enumerate(cat_vars):\n",
    "        plt.subplot(2,5,i+1+5*j)\n",
    "        sns.violinplot(x=cat_variable,y=cont_variable, hue=\"Survived\", data=train, split=True)\n",
    "\n",
    "plt.show()"
   ]
  },
  {
   "cell_type": "code",
   "execution_count": 19,
   "metadata": {},
   "outputs": [
    {
     "data": {
      "image/png": "[encoded data removed]",
      "text/plain": [
       "<Figure size 1131.88x720 with 6 Axes>"
      ]
     },
     "metadata": {
      "needs_background": "light"
     },
     "output_type": "display_data"
    }
   ],
   "source": [
    "sns.relplot(data=train, x=\"Fare\", y=\"Age\", hue=\"Survived\", col=\"Pclass\", row=\"Sex\")\n",
    "plt.show()"
   ]
  },
  {
   "cell_type": "markdown",
   "metadata": {},
   "source": [
    "We can see that female passengers from the 1st and 2nd classes have high chances of surviving, while also young, male passengers from the 2nd class lived as well"
   ]
  },
  {
   "cell_type": "code",
   "execution_count": 20,
   "metadata": {},
   "outputs": [
    {
     "data": {
      "image/png": "[encoded data removed]",
      "text/plain": [
       "<Figure size 402.375x360 with 1 Axes>"
      ]
     },
     "metadata": {
      "needs_background": "light"
     },
     "output_type": "display_data"
    }
   ],
   "source": [
    "sns.catplot(x=\"Pclass\", y=\"Survived\", hue=\"Sex\", kind=\"bar\", data=train)\n",
    "plt.show()"
   ]
  },
  {
   "cell_type": "markdown",
   "metadata": {},
   "source": [
    "As seen in the above graph, we can see that female passengers of the 2nd class are very likely to survive, while 2nd class men arent likely to livesns.catplot(x=\"Pclass\", y=\"Survived\", hue=\"Sex\", kind=\"bar\", data=train)\n",
    "plt.show()"
   ]
  },
  {
   "cell_type": "code",
   "execution_count": 21,
   "metadata": {},
   "outputs": [
    {
     "data": {
      "image/png": "[encoded data removed]",
      "text/plain": [
       "<Figure size 402.375x360 with 1 Axes>"
      ]
     },
     "metadata": {
      "needs_background": "light"
     },
     "output_type": "display_data"
    }
   ],
   "source": [
    "sns.catplot(x=\"Embarked\", y=\"Survived\", hue=\"Pclass\", kind=\"bar\", data=train)\n",
    "plt.show()"
   ]
  },
  {
   "cell_type": "markdown",
   "metadata": {},
   "source": [
    "From the above graph we can see that passengers for whom Embarked in Queenstown and are from the 2nd class have very high chances of surviving. \\\n",
    "Lets isolate them with another feature:\n",
    "* Mid_Class_Q - (Middle class passenger from Queenstown) "
   ]
  },
  {
   "cell_type": "markdown",
   "metadata": {},
   "source": [
    "## Feature engineering - part 1\n",
    "1) lets keep the age, we turn the age into a categorical feature as follows:\n",
    "* Unknown age\n",
    "* Toddler/baby - age 0-2\n",
    "* Child - age 2-17\n",
    "* Young_adult - 17-30\n",
    "* Adult - 30-65\n",
    "* Elderly - 65+\n",
    "2) we'll make the fare a categorical feature as well:\n",
    "* Fare>100\n",
    "* 50<Fare<100\n",
    "* 25<Fare<50\n",
    "* 0<Fare<25\n",
    "* Fare==0\n",
    "3) Family size:\n",
    "* Family_size = SibSp+Parch\n",
    "4) Single:\n",
    "* we want to have a feature that marks single people since they survive more often.\n",
    "5) Lot_Sib - (=Lots of siblings) \n",
    "* SibSp>=2\n",
    "6) Lot_Child - (=Lots of children) \n",
    "* Parch >= 4\n",
    "7) Big_Fam - (=Big family) \n",
    "* Fam_Size >= 4\n",
    "8) Mid_Class_Q - (Middle class passenger from Queenstown)\n",
    "*  Pclass==2 and Embarked==2\n",
    "9) Title:\n",
    "* Extracting titles using regex and turning it into categrical data."
   ]
  },
  {
   "cell_type": "code",
   "execution_count": 22,
   "metadata": {},
   "outputs": [],
   "source": [
    "# 1. Age\n",
    "X_train[\"Age\"].fillna(-1, inplace=True) #unknown age = -1\n",
    "# category = pd.cut(X_train.Age, bins=[-1,0,2,17,30,65,100],labels=['Unknown','Toddler/baby', 'Child', 'Young_adult' ,'Adult', 'Elderly'])\n",
    "# X_train.insert(5,'Age_Group',category)\n",
    "# X_train = pd.get_dummies(data=X_train, columns=[\"Age_Group\"], dummy_na=True)\n",
    "# X_train = X_train.drop([\"Age\"], axis=1)"
   ]
  },
  {
   "cell_type": "code",
   "execution_count": 23,
   "metadata": {},
   "outputs": [],
   "source": [
    "# 2. Fare\n",
    "# category = pd.cut(X_train.Fare, bins=[0,0.5,25,50,100,1000],labels=[0,1,2,3,4])\n",
    "# X_train.insert(6,'Fare_Category',category)\n",
    "# X_train = pd.get_dummies(data=X_train, columns=[\"Fare_Category\"])\n",
    "# X_train = X_train.drop([\"Fare\"], axis=1)"
   ]
  },
  {
   "cell_type": "code",
   "execution_count": 24,
   "metadata": {},
   "outputs": [],
   "source": [
    "# 3. Family-Size\n",
    "X_train[\"Family_Size\"] = X_train[\"Parch\"] + X_train[\"SibSp\"]"
   ]
  },
  {
   "cell_type": "code",
   "execution_count": 25,
   "metadata": {},
   "outputs": [],
   "source": [
    "# 4. Single\n",
    "# X_train[\"Single\"] = np.logical_and(X_train[\"Parch\"]==0, X_train[\"SibSp\"]==0).astype(int)"
   ]
  },
  {
   "cell_type": "code",
   "execution_count": 26,
   "metadata": {},
   "outputs": [],
   "source": [
    "# 5. Lot_Sib\n",
    "# X_train[\"Lot_Sib\"] = (X_train[\"SibSp\"] >= 2).astype(int)"
   ]
  },
  {
   "cell_type": "code",
   "execution_count": 27,
   "metadata": {},
   "outputs": [],
   "source": [
    "# 6. Lot_Child\n",
    "# X_train[\"Lot_Child\"] = (X_train[\"Parch\"] >= 4).astype(int)"
   ]
  },
  {
   "cell_type": "code",
   "execution_count": 28,
   "metadata": {},
   "outputs": [],
   "source": [
    "# 7. Big_Fam\n",
    "# X_train[\"Big_Fam\"] = (X_train[\"Family_Size\"] >= 4).astype(int)"
   ]
  },
  {
   "cell_type": "code",
   "execution_count": 29,
   "metadata": {},
   "outputs": [],
   "source": [
    "# 8. Mid_Class_Q \n",
    "# X_train[\"Mid_Class_Q\"] = np.logical_and(X_train[\"Pclass\"]==2 , X_train[\"Embarked\"]==2).astype(int)"
   ]
  },
  {
   "cell_type": "code",
   "execution_count": 30,
   "metadata": {},
   "outputs": [],
   "source": [
    "# 9. Title \n",
    "import re\n",
    "\n",
    "\n",
    "extract_title = lambda x: re.split(\"\\.\",re.split(\",\",x)[1])[0]\n",
    "X_train[\"Title\"] = X_train[\"Name\"].apply(extract_title)\n",
    "X_train.drop([\"Name\"], axis=1, inplace=True)"
   ]
  },
  {
   "cell_type": "markdown",
   "metadata": {},
   "source": [
    "### Splitting Data"
   ]
  },
  {
   "cell_type": "markdown",
   "metadata": {},
   "source": [
    "now we need to make sure we use a validation batch for model selection"
   ]
  },
  {
   "cell_type": "code",
   "execution_count": 31,
   "metadata": {},
   "outputs": [],
   "source": [
    "from sklearn.model_selection import train_test_split\n",
    "\n",
    "\n",
    "X_train, X_val, y_train, y_val = train_test_split(X_train, y_train, test_size=0.3)\n",
    "X_train.reset_index(drop=True, inplace=True)\n",
    "X_val.reset_index(drop=True, inplace=True)\n",
    "y_train.reset_index(drop=True, inplace=True)\n",
    "y_val.reset_index(drop=True, inplace=True)"
   ]
  },
  {
   "cell_type": "code",
   "execution_count": 32,
   "metadata": {},
   "outputs": [],
   "source": [
    "from sklearn.preprocessing import OneHotEncoder\n",
    "\n",
    "\n",
    "def dummy_features(data, encoder, fit: bool = False):\n",
    "    if fit:\n",
    "        encoder.fit(data[[\"Embarked\", \"Title\"]])\n",
    "\n",
    "    one_hot_features = encoder.transform(data[[\"Embarked\", \"Title\"]])\n",
    "\n",
    "    column_names = encoder.get_feature_names([\"Embarked\", \"Title\"])\n",
    "    one_hot_features = pd.DataFrame(one_hot_features, columns=column_names)\n",
    "    data = data.join(one_hot_features)\n",
    "    data.drop(labels=[\"Embarked\", \"Title\"], axis=1, inplace=True)\n",
    "    return data, encoder\n",
    "\n",
    "encoder = OneHotEncoder(sparse=False, handle_unknown='ignore')\n",
    "X_train, encoder = dummy_features(data=X_train, encoder=encoder, fit=True)\n",
    "X_val, _ = dummy_features(data=X_val, encoder=encoder, fit=False)\n",
    "\n",
    "X_train_reduced = X_train.copy()\n",
    "X_val_reduced = X_val.copy()"
   ]
  },
  {
   "cell_type": "markdown",
   "metadata": {},
   "source": [
    "### Standard scaling the data:\n",
    "first we normalize contingous features."
   ]
  },
  {
   "cell_type": "code",
   "execution_count": 33,
   "metadata": {
    "tags": []
   },
   "outputs": [],
   "source": [
    "from sklearn.preprocessing import StandardScaler\n",
    "\n",
    "\n",
    "scaler = StandardScaler()\n",
    "continous_columns = (\"Family_Size\",\"SibSp\",\"Parch\",\"Pclass\")\n",
    "scaler.fit(X_train_reduced.loc[:,continous_columns])\n",
    "X_train_reduced.loc[:,continous_columns] = scaler.transform(X_train_reduced.loc[:,continous_columns], copy=False)\n",
    "X_val_reduced.loc[:,continous_columns] = scaler.transform(X_val_reduced.loc[:,continous_columns], copy=False)"
   ]
  },
  {
   "cell_type": "markdown",
   "metadata": {},
   "source": [
    "### Feature selection\n",
    "We select features using a logistic regression classifier.\\\n",
    "Classifiers are trained consequently one by one, each with an addiitional feature, in order to find the best number of features for our models."
   ]
  },
  {
   "cell_type": "code",
   "execution_count": 34,
   "metadata": {},
   "outputs": [
    {
     "data": {
      "text/html": [
       "<div>\n",
       "<style scoped>\n",
       "    .dataframe tbody tr th:only-of-type {\n",
       "        vertical-align: middle;\n",
       "    }\n",
       "\n",
       "    .dataframe tbody tr th {\n",
       "        vertical-align: top;\n",
       "    }\n",
       "\n",
       "    .dataframe thead th {\n",
       "        text-align: right;\n",
       "    }\n",
       "</style>\n",
       "<table border=\"1\" class=\"dataframe\">\n",
       "  <thead>\n",
       "    <tr style=\"text-align: right;\">\n",
       "      <th></th>\n",
       "      <th>Pclass</th>\n",
       "      <th>Sex</th>\n",
       "      <th>Family_Size</th>\n",
       "      <th>Embarked_0</th>\n",
       "      <th>Embarked_1</th>\n",
       "      <th>Title_ Dr</th>\n",
       "      <th>Title_ Master</th>\n",
       "      <th>Title_ Mr</th>\n",
       "      <th>Title_ Mrs</th>\n",
       "      <th>Title_ Ms</th>\n",
       "      <th>Title_ Rev</th>\n",
       "      <th>Title_ Sir</th>\n",
       "    </tr>\n",
       "  </thead>\n",
       "  <tbody>\n",
       "    <tr>\n",
       "      <th>0</th>\n",
       "      <td>0.812611</td>\n",
       "      <td>0</td>\n",
       "      <td>0.064557</td>\n",
       "      <td>0.0</td>\n",
       "      <td>1.0</td>\n",
       "      <td>0.0</td>\n",
       "      <td>0.0</td>\n",
       "      <td>0.0</td>\n",
       "      <td>0.0</td>\n",
       "      <td>0.0</td>\n",
       "      <td>0.0</td>\n",
       "      <td>0.0</td>\n",
       "    </tr>\n",
       "    <tr>\n",
       "      <th>1</th>\n",
       "      <td>-0.400205</td>\n",
       "      <td>1</td>\n",
       "      <td>-0.577140</td>\n",
       "      <td>0.0</td>\n",
       "      <td>1.0</td>\n",
       "      <td>0.0</td>\n",
       "      <td>0.0</td>\n",
       "      <td>1.0</td>\n",
       "      <td>0.0</td>\n",
       "      <td>0.0</td>\n",
       "      <td>0.0</td>\n",
       "      <td>0.0</td>\n",
       "    </tr>\n",
       "    <tr>\n",
       "      <th>2</th>\n",
       "      <td>0.812611</td>\n",
       "      <td>0</td>\n",
       "      <td>0.706254</td>\n",
       "      <td>1.0</td>\n",
       "      <td>0.0</td>\n",
       "      <td>0.0</td>\n",
       "      <td>0.0</td>\n",
       "      <td>0.0</td>\n",
       "      <td>1.0</td>\n",
       "      <td>0.0</td>\n",
       "      <td>0.0</td>\n",
       "      <td>0.0</td>\n",
       "    </tr>\n",
       "    <tr>\n",
       "      <th>3</th>\n",
       "      <td>-1.613021</td>\n",
       "      <td>0</td>\n",
       "      <td>1.989648</td>\n",
       "      <td>1.0</td>\n",
       "      <td>0.0</td>\n",
       "      <td>0.0</td>\n",
       "      <td>0.0</td>\n",
       "      <td>0.0</td>\n",
       "      <td>0.0</td>\n",
       "      <td>0.0</td>\n",
       "      <td>0.0</td>\n",
       "      <td>0.0</td>\n",
       "    </tr>\n",
       "    <tr>\n",
       "      <th>4</th>\n",
       "      <td>-1.613021</td>\n",
       "      <td>0</td>\n",
       "      <td>0.064557</td>\n",
       "      <td>0.0</td>\n",
       "      <td>1.0</td>\n",
       "      <td>0.0</td>\n",
       "      <td>0.0</td>\n",
       "      <td>0.0</td>\n",
       "      <td>1.0</td>\n",
       "      <td>0.0</td>\n",
       "      <td>0.0</td>\n",
       "      <td>0.0</td>\n",
       "    </tr>\n",
       "  </tbody>\n",
       "</table>\n",
       "</div>"
      ],
      "text/plain": [
       "     Pclass  Sex  Family_Size  Embarked_0  Embarked_1  Title_ Dr  \\\n",
       "0  0.812611    0     0.064557         0.0         1.0        0.0   \n",
       "1 -0.400205    1    -0.577140         0.0         1.0        0.0   \n",
       "2  0.812611    0     0.706254         1.0         0.0        0.0   \n",
       "3 -1.613021    0     1.989648         1.0         0.0        0.0   \n",
       "4 -1.613021    0     0.064557         0.0         1.0        0.0   \n",
       "\n",
       "   Title_ Master  Title_ Mr  Title_ Mrs  Title_ Ms  Title_ Rev  Title_ Sir  \n",
       "0            0.0        0.0         0.0        0.0         0.0         0.0  \n",
       "1            0.0        1.0         0.0        0.0         0.0         0.0  \n",
       "2            0.0        0.0         1.0        0.0         0.0         0.0  \n",
       "3            0.0        0.0         0.0        0.0         0.0         0.0  \n",
       "4            0.0        0.0         1.0        0.0         0.0         0.0  "
      ]
     },
     "execution_count": 34,
     "metadata": {},
     "output_type": "execute_result"
    }
   ],
   "source": [
    "from sklearn.linear_model import LogisticRegression\n",
    "from sklearn.feature_selection import RFECV\n",
    "\n",
    "clf = LogisticRegression(C=1.59228279, solver='saga', max_iter=10000)\n",
    "selector = RFECV(clf, min_features_to_select=12, scoring=\"balanced_accuracy\")\n",
    "selector.fit(X_train_reduced, y_train)\n",
    "cols = selector.get_support(indices=True)\n",
    "X_train_reduced = X_train_reduced.iloc[:,cols]\n",
    "X_val_reduced = X_val_reduced.iloc[:,cols]\n",
    "X_train_reduced.head()"
   ]
  },
  {
   "cell_type": "markdown",
   "metadata": {},
   "source": [
    "## Simple Classifiers\n"
   ]
  },
  {
   "cell_type": "markdown",
   "metadata": {},
   "source": [
    "Great \\\n",
    "Lets train some classifiers in order to get a grasp!now we need to make sure we use a validation batch for model selection"
   ]
  },
  {
   "cell_type": "code",
   "execution_count": 35,
   "metadata": {},
   "outputs": [],
   "source": [
    "import scipy.stats as stats\n",
    "from sklearn.metrics import plot_confusion_matrix, f1_score, balanced_accuracy_score\n",
    "from sklearn.model_selection import RandomizedSearchCV, GridSearchCV"
   ]
  },
  {
   "cell_type": "markdown",
   "metadata": {},
   "source": [
    "### Logistic Regression"
   ]
  },
  {
   "cell_type": "code",
   "execution_count": 36,
   "metadata": {},
   "outputs": [
    {
     "name": "stdout",
     "output_type": "stream",
     "text": [
      "train score: 0.804\n",
      "Val score: 0.809\n"
     ]
    },
    {
     "data": {
      "image/png": "[encoded data removed]",
      "text/plain": [
       "<Figure size 432x288 with 2 Axes>"
      ]
     },
     "metadata": {
      "needs_background": "light"
     },
     "output_type": "display_data"
    },
    {
     "data": {
      "text/plain": [
       "{'Cs': 100,\n",
       " 'class_weight': None,\n",
       " 'cv': 5,\n",
       " 'dual': False,\n",
       " 'fit_intercept': True,\n",
       " 'intercept_scaling': 1.0,\n",
       " 'l1_ratios': [0.755142449881663,\n",
       "  0.9564672351738729,\n",
       "  0.4932782601330389,\n",
       "  0.6160961513079908,\n",
       "  0.8801183554530113,\n",
       "  0.7314380834288144,\n",
       "  0.04454042729447605,\n",
       "  0.8269564277601866,\n",
       "  0.45389341455842436,\n",
       "  0.5980852125248559,\n",
       "  0.21706523612868922,\n",
       "  0.9299880776325375,\n",
       "  0.5196165109709577,\n",
       "  0.6155321123328694,\n",
       "  0.568571120985092,\n",
       "  0.22484807738568213,\n",
       "  0.9407903459686724,\n",
       "  0.9323982311718921,\n",
       "  0.5914139284279859,\n",
       "  0.3289075948252219,\n",
       "  0.32420952239677325,\n",
       "  0.42073194648429224,\n",
       "  0.9970181909293577,\n",
       "  0.7435359900651808,\n",
       "  0.9344170629002139,\n",
       "  0.9888549070550433,\n",
       "  0.4167012743802252,\n",
       "  0.9470474131179065,\n",
       "  0.42469193977680697,\n",
       "  0.85028513124758,\n",
       "  0.8783557481005628,\n",
       "  0.7852581069666481,\n",
       "  0.1554312021389388,\n",
       "  0.5403575053686875,\n",
       "  0.3716525152016814,\n",
       "  0.46975238470755487,\n",
       "  0.00875999900865776,\n",
       "  0.2977112998182334,\n",
       "  0.6867985363027005,\n",
       "  0.04913135993709372,\n",
       "  0.6571710270444275,\n",
       "  0.9040476121904206,\n",
       "  0.5851193952311685,\n",
       "  0.17604965170482834,\n",
       "  0.7625290735767059,\n",
       "  0.5015577045946775,\n",
       "  0.4050746397945544,\n",
       "  0.7836153800300462,\n",
       "  0.07816035495911788,\n",
       "  0.693969926707857,\n",
       "  0.7876120034353731,\n",
       "  0.3577971319379839,\n",
       "  0.31321958881240786,\n",
       "  0.9318363475657684,\n",
       "  0.36944813719329106,\n",
       "  0.807520389546271,\n",
       "  0.2988072928834742,\n",
       "  0.7362019084973307,\n",
       "  0.08508607635110621,\n",
       "  0.8194761263284813,\n",
       "  0.20273226773928177,\n",
       "  0.27642141088246464,\n",
       "  0.08388893139602094,\n",
       "  0.3128270794227762,\n",
       "  0.6148838264785726,\n",
       "  0.014918199255659514,\n",
       "  0.28073274427791817,\n",
       "  0.993634375970487,\n",
       "  0.6634875108919127,\n",
       "  0.2568437746447677,\n",
       "  0.6793438002576189,\n",
       "  0.20764210340181322,\n",
       "  0.8017596641245416,\n",
       "  0.040372844130285745,\n",
       "  0.13212533378848712,\n",
       "  0.09071825952806112,\n",
       "  0.21176786394310942,\n",
       "  0.2730103419969393,\n",
       "  0.05982631271241545,\n",
       "  0.13464878770093003,\n",
       "  0.035050005076601054,\n",
       "  0.6981436291384469,\n",
       "  0.2117074447269388,\n",
       "  0.10136296713438198,\n",
       "  0.7668349351204858,\n",
       "  0.5683321374505611,\n",
       "  0.20267041841625144,\n",
       "  0.40442438042894124,\n",
       "  0.44613095737435027,\n",
       "  0.41909328246307986,\n",
       "  0.6239005824331809,\n",
       "  0.5662696218428331,\n",
       "  0.15757256543463016,\n",
       "  0.06896106710072425,\n",
       "  0.769213353567963,\n",
       "  0.5670660497913442,\n",
       "  0.9444857136695317,\n",
       "  0.4668996606834832,\n",
       "  0.04788617132145834,\n",
       "  0.4888135604998465],\n",
       " 'max_iter': 10000,\n",
       " 'multi_class': 'ovr',\n",
       " 'n_jobs': None,\n",
       " 'penalty': 'elasticnet',\n",
       " 'random_state': None,\n",
       " 'refit': True,\n",
       " 'scoring': 'balanced_accuracy',\n",
       " 'solver': 'saga',\n",
       " 'tol': 0.0001,\n",
       " 'verbose': 0}"
      ]
     },
     "execution_count": 36,
     "metadata": {},
     "output_type": "execute_result"
    }
   ],
   "source": [
    "from sklearn.linear_model import LogisticRegressionCV\n",
    "\n",
    "\n",
    "# Applying grid search with randomalized l1_ratios so that queet is actualy an implementation of a random search\n",
    "l1_ratios_list = list(stats.uniform(0,1).rvs(100))\n",
    "log_reg_optimized = LogisticRegressionCV(Cs=100, penalty='elasticnet',solver='saga', cv=5, l1_ratios=l1_ratios_list,\n",
    "                                         scoring='balanced_accuracy', max_iter=10000, multi_class='ovr')\n",
    "\n",
    "log_reg_optimized.fit(X_train_reduced, y_train)\n",
    "\n",
    "train_score = log_reg_optimized.score(X_train_reduced, y_train)\n",
    "print(f\"train score: {train_score:.3f}\")\n",
    "\n",
    "val_score = log_reg_optimized.score(X_val_reduced, y_val)\n",
    "print(f\"Val score: {val_score:.3f}\")\n",
    "plot_confusion_matrix(log_reg_optimized,X_val_reduced, y_val)\n",
    "plt.show()\n",
    "log_reg_optimized.get_params()"
   ]
  },
  {
   "cell_type": "code",
   "execution_count": 37,
   "metadata": {},
   "outputs": [
    {
     "data": {
      "text/plain": [
       "array([5.85702082])"
      ]
     },
     "execution_count": 37,
     "metadata": {},
     "output_type": "execute_result"
    }
   ],
   "source": [
    "log_reg_optimized.C_"
   ]
  },
  {
   "cell_type": "markdown",
   "metadata": {},
   "source": [
    "### KNN"
   ]
  },
  {
   "cell_type": "code",
   "execution_count": 38,
   "metadata": {},
   "outputs": [
    {
     "name": "stdout",
     "output_type": "stream",
     "text": [
      "train score: 0.850\n",
      "validation score: 0.798\n",
      "val f1 score: 0.732\n",
      "val accuracy score: 0.816\n"
     ]
    },
    {
     "data": {
      "image/png": "[encoded data removed]",
      "text/plain": [
       "<Figure size 432x288 with 2 Axes>"
      ]
     },
     "metadata": {
      "needs_background": "light"
     },
     "output_type": "display_data"
    }
   ],
   "source": [
    "from sklearn.neighbors import KNeighborsClassifier\n",
    "\n",
    "\n",
    "parameters = {\n",
    "              'n_neighbors':np.arange(1,12), \n",
    "              'p':np.arange(1,6), \n",
    "              'weights':['uniform','distance']\n",
    "             }\n",
    "\n",
    "knn_clf = KNeighborsClassifier()\n",
    "knn_clf_optimized = GridSearchCV(knn_clf, parameters, return_train_score=True, scoring='balanced_accuracy')\n",
    "knn_clf_optimized.fit(X_train_reduced, y_train)\n",
    "\n",
    "train_score = balanced_accuracy_score(knn_clf_optimized.predict(X_train_reduced), y_train)\n",
    "print(f\"train score: {train_score:.3f}\")\n",
    "\n",
    "print(f\"validation score: {knn_clf_optimized.best_score_:.3f}\")\n",
    "\n",
    "val_score = f1_score(knn_clf_optimized.predict(X_val_reduced),y_val)\n",
    "print(f\"val f1 score: {val_score:.3f}\")\n",
    "print(f\"val accuracy score: {balanced_accuracy_score(knn_clf_optimized.predict(X_val_reduced), y_val):.3f}\")\n",
    "\n",
    "plot_confusion_matrix(knn_clf_optimized,X_val_reduced, y_val)\n",
    "plt.show()"
   ]
  },
  {
   "cell_type": "markdown",
   "metadata": {},
   "source": [
    "### SVM"
   ]
  },
  {
   "cell_type": "code",
   "execution_count": 39,
   "metadata": {},
   "outputs": [
    {
     "name": "stdout",
     "output_type": "stream",
     "text": [
      "train score: 0.832\n",
      "validation score: 0.802\n",
      "val f1 score: 0.750\n",
      "val accuracy score: 0.808\n"
     ]
    },
    {
     "data": {
      "image/png": "[encoded data removed]",
      "text/plain": [
       "<Figure size 432x288 with 2 Axes>"
      ]
     },
     "metadata": {
      "needs_background": "light"
     },
     "output_type": "display_data"
    }
   ],
   "source": [
    "from sklearn.svm import SVC\n",
    "\n",
    "\n",
    "# parameters for later doing parameter tuning through a grid-search\n",
    "parameters = {\n",
    "              'gamma':[\"scale\",\"auto\"],\n",
    "              'class_weight':[None,\"balanced\"], \n",
    "              'C':stats.expon(),\n",
    "              'kernel':['poly','rbf'], \n",
    "              'degree':[1,2,3,4,5],\n",
    "              'decision_function_shape':['ovo']\n",
    "             }\n",
    "\n",
    "svm_clf = SVC()\n",
    "\n",
    "svm_clf_optimized = RandomizedSearchCV(svm_clf, param_distributions=parameters, n_iter=10000, scoring='balanced_accuracy',return_train_score=True)\n",
    "svm_clf_optimized.fit(X_train_reduced, y_train)\n",
    "\n",
    "train_score = balanced_accuracy_score(svm_clf_optimized.predict(X_train_reduced), y_train)\n",
    "print(f\"train score: {train_score:.3f}\")\n",
    "\n",
    "print(f\"validation score: {svm_clf_optimized.best_score_:.3f}\")\n",
    "\n",
    "val_score = f1_score(svm_clf_optimized.predict(X_val_reduced), y_val)\n",
    "print(f\"val f1 score: {val_score:.3f}\")\n",
    "print(f\"val accuracy score: {balanced_accuracy_score(svm_clf_optimized.predict(X_val_reduced), y_val):.3f}\")\n",
    "\n",
    "plot_confusion_matrix(svm_clf_optimized, X_val_reduced, y_val)\n",
    "plt.show()"
   ]
  },
  {
   "cell_type": "markdown",
   "metadata": {},
   "source": [
    "### MLP"
   ]
  },
  {
   "cell_type": "code",
   "execution_count": 40,
   "metadata": {},
   "outputs": [
    {
     "name": "stdout",
     "output_type": "stream",
     "text": [
      "train score: 0.814\n",
      "validation score: 0.811\n",
      "val f1 score: 0.753\n",
      "val accuracy score: 0.796\n"
     ]
    },
    {
     "data": {
      "image/png": "[encoded data removed]",
      "text/plain": [
       "<Figure size 432x288 with 2 Axes>"
      ]
     },
     "metadata": {
      "needs_background": "light"
     },
     "output_type": "display_data"
    }
   ],
   "source": [
    "from sklearn.neural_network import MLPClassifier\n",
    "\n",
    "\n",
    "parameters = {'solver':['adam','lbfgs'], \n",
    "              'alpha': stats.expon(),\n",
    "              'hidden_layer_sizes':[(x,) for x in np.arange(20,60)],\n",
    "              'learning_rate_init': stats.uniform(0,1),\n",
    "              'learning_rate': ['constant', 'invscaling', 'adaptive'],\n",
    "              'learning_rate_init': stats.uniform(0,1),\n",
    "              'max_iter':[30000],\n",
    "              'momentum': stats.uniform(0,1),\n",
    "              'nesterovs_momentum': [True, False]\n",
    "             }\n",
    "\n",
    "mlp_clf = MLPClassifier()\n",
    "\n",
    "mlp_clf_optimized = RandomizedSearchCV(mlp_clf, param_distributions=parameters, n_iter=10000, scoring='balanced_accuracy',return_train_score=True)\n",
    "mlp_clf_optimized.fit(X_train_reduced, y_train)\n",
    "\n",
    "train_score = balanced_accuracy_score(mlp_clf_optimized.predict(X_train_reduced), y_train)\n",
    "print(f\"train score: {train_score:.3f}\")\n",
    "\n",
    "print(f\"validation score: {mlp_clf_optimized.best_score_:.3f}\")\n",
    "\n",
    "val_score = f1_score(mlp_clf_optimized.predict(X_val_reduced), y_val)\n",
    "print(f\"val f1 score: {val_score:.3f}\")\n",
    "print(f\"val accuracy score: {balanced_accuracy_score(mlp_clf_optimized.predict(X_val_reduced), y_val):.3f}\")\n",
    "\n",
    "plot_confusion_matrix(mlp_clf_optimized, X_val_reduced, y_val)\n",
    "plt.show()"
   ]
  },
  {
   "cell_type": "markdown",
   "metadata": {},
   "source": [
    "### Decision-Trees\n",
    "\"Trees have one aspect that prevents them from being the ideal tool for predictive learning, namely inaccuracy.\" - The Elements of Statistical Learning"
   ]
  },
  {
   "cell_type": "code",
   "execution_count": 41,
   "metadata": {},
   "outputs": [
    {
     "name": "stdout",
     "output_type": "stream",
     "text": [
      "train score: 0.801\n",
      "validation score: 0.812\n",
      "val f1 score: 0.724\n",
      "val accuracy score: 0.764\n"
     ]
    },
    {
     "data": {
      "image/png": "[encoded data removed]",
      "text/plain": [
       "<Figure size 432x288 with 2 Axes>"
      ]
     },
     "metadata": {
      "needs_background": "light"
     },
     "output_type": "display_data"
    }
   ],
   "source": [
    "from sklearn.tree import DecisionTreeClassifier, plot_tree\n",
    "\n",
    "\n",
    "clf = DecisionTreeClassifier()\n",
    "alphas = list(clf.cost_complexity_pruning_path(X_train, y_train).ccp_alphas)\n",
    "alphas.append(0)\n",
    "\n",
    "parameters = {'ccp_alpha':alphas,\n",
    "             'max_features':['auto', 'sqrt', \"log2\"],\n",
    "             'class_weight':['balanced',None],\n",
    "              'max_depth': [4,5,6,7]\n",
    "             }\n",
    "optimized_dt = GridSearchCV(clf, parameters,scoring='balanced_accuracy')\n",
    "optimized_dt.fit(X_train, y_train)\n",
    "\n",
    "train_score = balanced_accuracy_score(optimized_dt.predict(X_train), y_train)\n",
    "print(f\"train score: {train_score:.3f}\")\n",
    "\n",
    "print(f\"validation score: {optimized_dt.best_score_:.3f}\")\n",
    "\n",
    "val_score = f1_score(optimized_dt.predict(X_val), y_val)\n",
    "print(f\"val f1 score: {val_score:.3f}\")\n",
    "print(f\"val accuracy score: {balanced_accuracy_score(optimized_dt.predict(X_val), y_val):.3f}\")\n",
    "\n",
    "plot_confusion_matrix(optimized_dt, X_val, y_val)\n",
    "plt.show()"
   ]
  },
  {
   "cell_type": "code",
   "execution_count": 42,
   "metadata": {},
   "outputs": [
    {
     "data": {
      "text/plain": [
       "DecisionTreeClassifier(ccp_alpha=0.00223563603845294, class_weight='balanced',\n",
       "                       max_depth=5, max_features='auto')"
      ]
     },
     "execution_count": 42,
     "metadata": {},
     "output_type": "execute_result"
    },
    {
     "data": {
      "image/png": "[encoded data removed]",
      "text/plain": [
       "<Figure size 720x720 with 1 Axes>"
      ]
     },
     "metadata": {
      "needs_background": "light"
     },
     "output_type": "display_data"
    }
   ],
   "source": [
    "plt.figure(figsize=(10,10))\n",
    "plot_tree(optimized_dt.best_estimator_)\n",
    "optimized_dt.best_estimator_"
   ]
  },
  {
   "cell_type": "markdown",
   "metadata": {},
   "source": [
    "### Random Forest\n",
    "Funny thing but the random forest classifier works best without prior feature selection, which is quite intuitive since the trees choose the relevant features by themselves anyways.\\\n",
    "The parameters were fine tuned by hand.\n"
   ]
  },
  {
   "cell_type": "code",
   "execution_count": 43,
   "metadata": {},
   "outputs": [
    {
     "name": "stdout",
     "output_type": "stream",
     "text": [
      "train balanced accuracy score: 0.873\n",
      "out-of-bag balanced accuracy score: 0.833\n",
      "val f1 score: 0.760\n",
      "val balanced accuracy score: 0.819\n"
     ]
    },
    {
     "data": {
      "image/png": "[encoded data removed]",
      "text/plain": [
       "<Figure size 432x288 with 2 Axes>"
      ]
     },
     "metadata": {
      "needs_background": "light"
     },
     "output_type": "display_data"
    }
   ],
   "source": [
    "from sklearn.ensemble import RandomForestClassifier\n",
    "\n",
    "\n",
    "rf_clf = RandomForestClassifier(criterion=\"gini\",\n",
    "                                n_estimators=3000,\n",
    "                                oob_score=True,\n",
    "                                ccp_alpha=.0007984414423046222,\n",
    "                                min_samples_leaf=3,\n",
    "                                n_jobs=-1)\n",
    "rf_clf.fit(X_train, y_train)\n",
    "train_score = balanced_accuracy_score(rf_clf.predict(X_train), y_train)\n",
    "print(f\"train balanced accuracy score: {train_score:.3f}\")\n",
    "print(f\"out-of-bag balanced accuracy score: {rf_clf.oob_score_:.3f}\")\n",
    "val_f1_score = f1_score(rf_clf.predict(X_val), y_val)\n",
    "print(f\"val f1 score: {val_f1_score:.3f}\")\n",
    "print(f\"val balanced accuracy score: {balanced_accuracy_score(rf_clf.predict(X_val), y_val):.3f}\")\n",
    "\n",
    "plot_confusion_matrix(rf_clf, X_val, y_val)\n",
    "plt.show()"
   ]
  },
  {
   "cell_type": "markdown",
   "metadata": {},
   "source": [
    "### AdaBoost"
   ]
  },
  {
   "cell_type": "code",
   "execution_count": 44,
   "metadata": {},
   "outputs": [
    {
     "name": "stdout",
     "output_type": "stream",
     "text": [
      "train score: 0.891\n",
      "validation score: 0.815\n",
      "val f1 score: 0.744\n",
      "val accuracy score: 0.796\n"
     ]
    },
    {
     "data": {
      "image/png": "[encoded data removed]",
      "text/plain": [
       "<Figure size 432x288 with 2 Axes>"
      ]
     },
     "metadata": {
      "needs_background": "light"
     },
     "output_type": "display_data"
    }
   ],
   "source": [
    "from sklearn.ensemble import AdaBoostClassifier\n",
    "\n",
    "\n",
    "parameters = {\n",
    "          'learning_rate' : stats.uniform(0,4),\n",
    "          'n_estimators':np.arange(100,1000)\n",
    "        }\n",
    "param_comb = 1000\n",
    "\n",
    "adaboost_clf = AdaBoostClassifier()\n",
    "optimized_adaboost_clf = RandomizedSearchCV(adaboost_clf, param_distributions=parameters, n_iter=param_comb, scoring='balanced_accuracy', n_jobs=-1)\n",
    "optimized_adaboost_clf.fit(X_train, y_train)\n",
    "\n",
    "\n",
    "train_score = balanced_accuracy_score(optimized_adaboost_clf.predict(X_train), y_train)\n",
    "print(f\"train score: {train_score:.3f}\")\n",
    "\n",
    "print(f\"validation score: {optimized_adaboost_clf.best_score_:.3f}\")\n",
    "\n",
    "val_score = f1_score(optimized_adaboost_clf.predict(X_val), y_val)\n",
    "print(f\"val f1 score: {val_score:.3f}\")\n",
    "print(f\"val accuracy score: {balanced_accuracy_score(optimized_adaboost_clf.predict(X_val), y_val):.3f}\")\n",
    "\n",
    "plot_confusion_matrix(optimized_adaboost_clf, X_val, y_val)\n",
    "plt.show()"
   ]
  },
  {
   "cell_type": "markdown",
   "metadata": {},
   "source": [
    "### Gradient Boosting"
   ]
  },
  {
   "cell_type": "code",
   "execution_count": 45,
   "metadata": {},
   "outputs": [
    {
     "name": "stdout",
     "output_type": "stream",
     "text": [
      "Fitting 5 folds for each of 10000 candidates, totalling 50000 fits\n",
      "train score: 0.930\n",
      "validation score: 0.823\n",
      "val f1 score: 0.790\n",
      "val accuracy score: 0.831\n"
     ]
    },
    {
     "data": {
      "image/png": "[encoded data removed]",
      "text/plain": [
       "<Figure size 432x288 with 2 Axes>"
      ]
     },
     "metadata": {
      "needs_background": "light"
     },
     "output_type": "display_data"
    }
   ],
   "source": [
    "from sklearn.ensemble import GradientBoostingClassifier\n",
    "\n",
    "\n",
    "parameters = {\n",
    "                'learning_rate':stats.uniform(0,1), \n",
    "                'subsample': stats.uniform(0,1),\n",
    "                'ccp_alpha':alphas,\n",
    "                'max_depth': [3, 4, 5, 6],\n",
    "                'n_estimators':list(np.arange(100,1000)),\n",
    "                'min_samples_leaf':[1,2,3,4,5]\n",
    "}\n",
    "\n",
    "param_comb = 10000\n",
    "\n",
    "gboost_clf = GradientBoostingClassifier()\n",
    "optimized_gboost_clf = RandomizedSearchCV(gboost_clf, param_distributions=parameters, n_iter=param_comb, scoring='balanced_accuracy', n_jobs=4, verbose=3)\n",
    "optimized_gboost_clf.fit(X_train, y_train)\n",
    "\n",
    "\n",
    "train_score = balanced_accuracy_score(optimized_gboost_clf.predict(X_train), y_train)\n",
    "print(f\"train score: {train_score:.3f}\")\n",
    "\n",
    "print(f\"validation score: {optimized_gboost_clf.best_score_:.3f}\")\n",
    "\n",
    "val_score = f1_score(optimized_gboost_clf.predict(X_val), y_val)\n",
    "print(f\"val f1 score: {val_score:.3f}\")\n",
    "print(f\"val accuracy score: {balanced_accuracy_score(optimized_gboost_clf.predict(X_val), y_val):.3f}\")\n",
    "\n",
    "plot_confusion_matrix(optimized_gboost_clf, X_val, y_val)\n",
    "plt.show()"
   ]
  },
  {
   "cell_type": "code",
   "execution_count": 46,
   "metadata": {},
   "outputs": [
    {
     "data": {
      "text/html": [
       "<div>\n",
       "<style scoped>\n",
       "    .dataframe tbody tr th:only-of-type {\n",
       "        vertical-align: middle;\n",
       "    }\n",
       "\n",
       "    .dataframe tbody tr th {\n",
       "        vertical-align: top;\n",
       "    }\n",
       "\n",
       "    .dataframe thead th {\n",
       "        text-align: right;\n",
       "    }\n",
       "</style>\n",
       "<table border=\"1\" class=\"dataframe\">\n",
       "  <thead>\n",
       "    <tr style=\"text-align: right;\">\n",
       "      <th></th>\n",
       "      <th>mean_fit_time</th>\n",
       "      <th>std_fit_time</th>\n",
       "      <th>mean_score_time</th>\n",
       "      <th>std_score_time</th>\n",
       "      <th>param_ccp_alpha</th>\n",
       "      <th>param_learning_rate</th>\n",
       "      <th>param_max_depth</th>\n",
       "      <th>param_min_samples_leaf</th>\n",
       "      <th>param_n_estimators</th>\n",
       "      <th>param_subsample</th>\n",
       "      <th>params</th>\n",
       "      <th>split0_test_score</th>\n",
       "      <th>split1_test_score</th>\n",
       "      <th>split2_test_score</th>\n",
       "      <th>split3_test_score</th>\n",
       "      <th>split4_test_score</th>\n",
       "      <th>mean_test_score</th>\n",
       "      <th>std_test_score</th>\n",
       "      <th>rank_test_score</th>\n",
       "    </tr>\n",
       "  </thead>\n",
       "  <tbody>\n",
       "    <tr>\n",
       "      <th>71</th>\n",
       "      <td>0.599813</td>\n",
       "      <td>0.010416</td>\n",
       "      <td>0.007400</td>\n",
       "      <td>0.004317</td>\n",
       "      <td>0.001303</td>\n",
       "      <td>0.381323</td>\n",
       "      <td>5</td>\n",
       "      <td>5</td>\n",
       "      <td>347</td>\n",
       "      <td>0.646373</td>\n",
       "      <td>{'ccp_alpha': 0.0013030564338411422, 'learning...</td>\n",
       "      <td>0.851443</td>\n",
       "      <td>0.801783</td>\n",
       "      <td>0.733822</td>\n",
       "      <td>0.812770</td>\n",
       "      <td>0.832399</td>\n",
       "      <td>0.806443</td>\n",
       "      <td>0.040085</td>\n",
       "      <td>146</td>\n",
       "    </tr>\n",
       "    <tr>\n",
       "      <th>160</th>\n",
       "      <td>1.283068</td>\n",
       "      <td>0.042762</td>\n",
       "      <td>0.006673</td>\n",
       "      <td>0.001126</td>\n",
       "      <td>0.001852</td>\n",
       "      <td>0.206962</td>\n",
       "      <td>5</td>\n",
       "      <td>3</td>\n",
       "      <td>814</td>\n",
       "      <td>0.57598</td>\n",
       "      <td>{'ccp_alpha': 0.0018520388741716702, 'learning...</td>\n",
       "      <td>0.827250</td>\n",
       "      <td>0.772496</td>\n",
       "      <td>0.794651</td>\n",
       "      <td>0.825928</td>\n",
       "      <td>0.806083</td>\n",
       "      <td>0.805281</td>\n",
       "      <td>0.020481</td>\n",
       "      <td>181</td>\n",
       "    </tr>\n",
       "    <tr>\n",
       "      <th>223</th>\n",
       "      <td>0.991041</td>\n",
       "      <td>0.036910</td>\n",
       "      <td>0.005026</td>\n",
       "      <td>0.000635</td>\n",
       "      <td>0.001677</td>\n",
       "      <td>0.192831</td>\n",
       "      <td>5</td>\n",
       "      <td>3</td>\n",
       "      <td>611</td>\n",
       "      <td>0.50212</td>\n",
       "      <td>{'ccp_alpha': 0.0016767270288397047, 'learning...</td>\n",
       "      <td>0.866723</td>\n",
       "      <td>0.801783</td>\n",
       "      <td>0.789689</td>\n",
       "      <td>0.850518</td>\n",
       "      <td>0.806083</td>\n",
       "      <td>0.822959</td>\n",
       "      <td>0.030050</td>\n",
       "      <td>1</td>\n",
       "    </tr>\n",
       "    <tr>\n",
       "      <th>237</th>\n",
       "      <td>1.092703</td>\n",
       "      <td>0.056315</td>\n",
       "      <td>0.006826</td>\n",
       "      <td>0.002576</td>\n",
       "      <td>0.001677</td>\n",
       "      <td>0.093132</td>\n",
       "      <td>3</td>\n",
       "      <td>2</td>\n",
       "      <td>801</td>\n",
       "      <td>0.650122</td>\n",
       "      <td>{'ccp_alpha': 0.0016767270288397047, 'learning...</td>\n",
       "      <td>0.848472</td>\n",
       "      <td>0.788625</td>\n",
       "      <td>0.789689</td>\n",
       "      <td>0.842321</td>\n",
       "      <td>0.784728</td>\n",
       "      <td>0.810767</td>\n",
       "      <td>0.028390</td>\n",
       "      <td>57</td>\n",
       "    </tr>\n",
       "    <tr>\n",
       "      <th>243</th>\n",
       "      <td>0.661547</td>\n",
       "      <td>0.020919</td>\n",
       "      <td>0.006704</td>\n",
       "      <td>0.003272</td>\n",
       "      <td>0.002418</td>\n",
       "      <td>0.394128</td>\n",
       "      <td>6</td>\n",
       "      <td>1</td>\n",
       "      <td>386</td>\n",
       "      <td>0.533085</td>\n",
       "      <td>{'ccp_alpha': 0.002418356291595728, 'learning_...</td>\n",
       "      <td>0.803056</td>\n",
       "      <td>0.814941</td>\n",
       "      <td>0.770060</td>\n",
       "      <td>0.816005</td>\n",
       "      <td>0.845557</td>\n",
       "      <td>0.809924</td>\n",
       "      <td>0.024364</td>\n",
       "      <td>71</td>\n",
       "    </tr>\n",
       "    <tr>\n",
       "      <th>...</th>\n",
       "      <td>...</td>\n",
       "      <td>...</td>\n",
       "      <td>...</td>\n",
       "      <td>...</td>\n",
       "      <td>...</td>\n",
       "      <td>...</td>\n",
       "      <td>...</td>\n",
       "      <td>...</td>\n",
       "      <td>...</td>\n",
       "      <td>...</td>\n",
       "      <td>...</td>\n",
       "      <td>...</td>\n",
       "      <td>...</td>\n",
       "      <td>...</td>\n",
       "      <td>...</td>\n",
       "      <td>...</td>\n",
       "      <td>...</td>\n",
       "      <td>...</td>\n",
       "      <td>...</td>\n",
       "    </tr>\n",
       "    <tr>\n",
       "      <th>9824</th>\n",
       "      <td>1.014143</td>\n",
       "      <td>0.018474</td>\n",
       "      <td>0.005481</td>\n",
       "      <td>0.003318</td>\n",
       "      <td>0.003593</td>\n",
       "      <td>0.083703</td>\n",
       "      <td>6</td>\n",
       "      <td>2</td>\n",
       "      <td>808</td>\n",
       "      <td>0.292903</td>\n",
       "      <td>{'ccp_alpha': 0.0035932998276021915, 'learning...</td>\n",
       "      <td>0.832343</td>\n",
       "      <td>0.772496</td>\n",
       "      <td>0.792925</td>\n",
       "      <td>0.799612</td>\n",
       "      <td>0.848792</td>\n",
       "      <td>0.809233</td>\n",
       "      <td>0.027594</td>\n",
       "      <td>88</td>\n",
       "    </tr>\n",
       "    <tr>\n",
       "      <th>9856</th>\n",
       "      <td>1.086940</td>\n",
       "      <td>0.006889</td>\n",
       "      <td>0.008247</td>\n",
       "      <td>0.007567</td>\n",
       "      <td>0.001509</td>\n",
       "      <td>0.055369</td>\n",
       "      <td>3</td>\n",
       "      <td>2</td>\n",
       "      <td>930</td>\n",
       "      <td>0.476375</td>\n",
       "      <td>{'ccp_alpha': 0.0015090543259557343, 'learning...</td>\n",
       "      <td>0.832343</td>\n",
       "      <td>0.793718</td>\n",
       "      <td>0.781493</td>\n",
       "      <td>0.802847</td>\n",
       "      <td>0.819241</td>\n",
       "      <td>0.805928</td>\n",
       "      <td>0.018059</td>\n",
       "      <td>160</td>\n",
       "    </tr>\n",
       "    <tr>\n",
       "      <th>9862</th>\n",
       "      <td>1.312871</td>\n",
       "      <td>0.014865</td>\n",
       "      <td>0.006244</td>\n",
       "      <td>0.005118</td>\n",
       "      <td>0.001761</td>\n",
       "      <td>0.269808</td>\n",
       "      <td>5</td>\n",
       "      <td>4</td>\n",
       "      <td>944</td>\n",
       "      <td>0.683397</td>\n",
       "      <td>{'ccp_alpha': 0.0017605633802816902, 'learning...</td>\n",
       "      <td>0.874788</td>\n",
       "      <td>0.804754</td>\n",
       "      <td>0.768335</td>\n",
       "      <td>0.792925</td>\n",
       "      <td>0.784728</td>\n",
       "      <td>0.805106</td>\n",
       "      <td>0.036801</td>\n",
       "      <td>190</td>\n",
       "    </tr>\n",
       "    <tr>\n",
       "      <th>9879</th>\n",
       "      <td>0.346410</td>\n",
       "      <td>0.009992</td>\n",
       "      <td>0.004669</td>\n",
       "      <td>0.000921</td>\n",
       "      <td>0.002418</td>\n",
       "      <td>0.155993</td>\n",
       "      <td>6</td>\n",
       "      <td>4</td>\n",
       "      <td>262</td>\n",
       "      <td>0.363044</td>\n",
       "      <td>{'ccp_alpha': 0.002418356291595728, 'learning_...</td>\n",
       "      <td>0.819185</td>\n",
       "      <td>0.809847</td>\n",
       "      <td>0.781493</td>\n",
       "      <td>0.850518</td>\n",
       "      <td>0.792925</td>\n",
       "      <td>0.810794</td>\n",
       "      <td>0.023779</td>\n",
       "      <td>54</td>\n",
       "    </tr>\n",
       "    <tr>\n",
       "      <th>9959</th>\n",
       "      <td>0.388887</td>\n",
       "      <td>0.022202</td>\n",
       "      <td>0.008015</td>\n",
       "      <td>0.004007</td>\n",
       "      <td>0.001677</td>\n",
       "      <td>0.529581</td>\n",
       "      <td>3</td>\n",
       "      <td>4</td>\n",
       "      <td>298</td>\n",
       "      <td>0.637844</td>\n",
       "      <td>{'ccp_alpha': 0.0016767270288397047, 'learning...</td>\n",
       "      <td>0.855688</td>\n",
       "      <td>0.780560</td>\n",
       "      <td>0.791415</td>\n",
       "      <td>0.829163</td>\n",
       "      <td>0.814280</td>\n",
       "      <td>0.814221</td>\n",
       "      <td>0.026818</td>\n",
       "      <td>23</td>\n",
       "    </tr>\n",
       "  </tbody>\n",
       "</table>\n",
       "<p>190 rows × 19 columns</p>\n",
       "</div>"
      ],
      "text/plain": [
       "      mean_fit_time  std_fit_time  mean_score_time  std_score_time  \\\n",
       "71         0.599813      0.010416         0.007400        0.004317   \n",
       "160        1.283068      0.042762         0.006673        0.001126   \n",
       "223        0.991041      0.036910         0.005026        0.000635   \n",
       "237        1.092703      0.056315         0.006826        0.002576   \n",
       "243        0.661547      0.020919         0.006704        0.003272   \n",
       "...             ...           ...              ...             ...   \n",
       "9824       1.014143      0.018474         0.005481        0.003318   \n",
       "9856       1.086940      0.006889         0.008247        0.007567   \n",
       "9862       1.312871      0.014865         0.006244        0.005118   \n",
       "9879       0.346410      0.009992         0.004669        0.000921   \n",
       "9959       0.388887      0.022202         0.008015        0.004007   \n",
       "\n",
       "     param_ccp_alpha param_learning_rate param_max_depth  \\\n",
       "71          0.001303            0.381323               5   \n",
       "160         0.001852            0.206962               5   \n",
       "223         0.001677            0.192831               5   \n",
       "237         0.001677            0.093132               3   \n",
       "243         0.002418            0.394128               6   \n",
       "...              ...                 ...             ...   \n",
       "9824        0.003593            0.083703               6   \n",
       "9856        0.001509            0.055369               3   \n",
       "9862        0.001761            0.269808               5   \n",
       "9879        0.002418            0.155993               6   \n",
       "9959        0.001677            0.529581               3   \n",
       "\n",
       "     param_min_samples_leaf param_n_estimators param_subsample  \\\n",
       "71                        5                347        0.646373   \n",
       "160                       3                814         0.57598   \n",
       "223                       3                611         0.50212   \n",
       "237                       2                801        0.650122   \n",
       "243                       1                386        0.533085   \n",
       "...                     ...                ...             ...   \n",
       "9824                      2                808        0.292903   \n",
       "9856                      2                930        0.476375   \n",
       "9862                      4                944        0.683397   \n",
       "9879                      4                262        0.363044   \n",
       "9959                      4                298        0.637844   \n",
       "\n",
       "                                                 params  split0_test_score  \\\n",
       "71    {'ccp_alpha': 0.0013030564338411422, 'learning...           0.851443   \n",
       "160   {'ccp_alpha': 0.0018520388741716702, 'learning...           0.827250   \n",
       "223   {'ccp_alpha': 0.0016767270288397047, 'learning...           0.866723   \n",
       "237   {'ccp_alpha': 0.0016767270288397047, 'learning...           0.848472   \n",
       "243   {'ccp_alpha': 0.002418356291595728, 'learning_...           0.803056   \n",
       "...                                                 ...                ...   \n",
       "9824  {'ccp_alpha': 0.0035932998276021915, 'learning...           0.832343   \n",
       "9856  {'ccp_alpha': 0.0015090543259557343, 'learning...           0.832343   \n",
       "9862  {'ccp_alpha': 0.0017605633802816902, 'learning...           0.874788   \n",
       "9879  {'ccp_alpha': 0.002418356291595728, 'learning_...           0.819185   \n",
       "9959  {'ccp_alpha': 0.0016767270288397047, 'learning...           0.855688   \n",
       "\n",
       "      split1_test_score  split2_test_score  split3_test_score  \\\n",
       "71             0.801783           0.733822           0.812770   \n",
       "160            0.772496           0.794651           0.825928   \n",
       "223            0.801783           0.789689           0.850518   \n",
       "237            0.788625           0.789689           0.842321   \n",
       "243            0.814941           0.770060           0.816005   \n",
       "...                 ...                ...                ...   \n",
       "9824           0.772496           0.792925           0.799612   \n",
       "9856           0.793718           0.781493           0.802847   \n",
       "9862           0.804754           0.768335           0.792925   \n",
       "9879           0.809847           0.781493           0.850518   \n",
       "9959           0.780560           0.791415           0.829163   \n",
       "\n",
       "      split4_test_score  mean_test_score  std_test_score  rank_test_score  \n",
       "71             0.832399         0.806443        0.040085              146  \n",
       "160            0.806083         0.805281        0.020481              181  \n",
       "223            0.806083         0.822959        0.030050                1  \n",
       "237            0.784728         0.810767        0.028390               57  \n",
       "243            0.845557         0.809924        0.024364               71  \n",
       "...                 ...              ...             ...              ...  \n",
       "9824           0.848792         0.809233        0.027594               88  \n",
       "9856           0.819241         0.805928        0.018059              160  \n",
       "9862           0.784728         0.805106        0.036801              190  \n",
       "9879           0.792925         0.810794        0.023779               54  \n",
       "9959           0.814280         0.814221        0.026818               23  \n",
       "\n",
       "[190 rows x 19 columns]"
      ]
     },
     "execution_count": 46,
     "metadata": {},
     "output_type": "execute_result"
    }
   ],
   "source": [
    "res = pd.DataFrame(optimized_gboost_clf.cv_results_)\n",
    "res[res[\"mean_test_score\"]>0.805]"
   ]
  },
  {
   "cell_type": "markdown",
   "metadata": {},
   "source": [
    "### XGBoost\n",
    "The XGBoost algo was tuned by hand, following the attached tutorial:\\\n",
    "https://towardsdatascience.com/fine-tuning-xgboost-in-python-like-a-boss-b4543ed8b1e"
   ]
  },
  {
   "cell_type": "code",
   "execution_count": 47,
   "metadata": {},
   "outputs": [],
   "source": [
    "import time\n",
    "from xgboost import XGBClassifier\n",
    "from sklearn.metrics import balanced_accuracy_score, f1_score, plot_confusion_matrix\n",
    "\n",
    "\n",
    "xgb_clf = XGBClassifier(learning_rate=0.01, \n",
    "                        n_estimators=600, \n",
    "                        max_depth=3, \n",
    "                        subsample=0.85, \n",
    "                        colsample_bytree=1, \n",
    "                        gamma=1, \n",
    "                        use_label_encoder=False)\n",
    "    \n",
    "eval_set = [(X_train, y_train), (X_val, y_val)]\n",
    "eval_metric = [\"auc\",\"error\"]\n",
    "xgb_clf.fit(X_train, y_train, eval_metric=eval_metric, eval_set=eval_set, verbose=False)\n",
    "res = xgb_clf.evals_result()\n"
   ]
  },
  {
   "cell_type": "code",
   "execution_count": 48,
   "metadata": {},
   "outputs": [
    {
     "data": {
      "image/png": "[encoded data removed]",
      "text/plain": [
       "<Figure size 432x288 with 1 Axes>"
      ]
     },
     "metadata": {
      "needs_background": "light"
     },
     "output_type": "display_data"
    }
   ],
   "source": [
    "plt.plot(res[\"validation_0\"]['error'])\n",
    "plt.plot(res[\"validation_1\"]['error'])\n",
    "plt.legend([\"train\",\"val\"])\n",
    "plt.show()"
   ]
  },
  {
   "cell_type": "code",
   "execution_count": 49,
   "metadata": {},
   "outputs": [
    {
     "name": "stdout",
     "output_type": "stream",
     "text": [
      "trainig accuracy score: 0.867\n",
      "val accuracy score: 0.819\n"
     ]
    },
    {
     "data": {
      "image/png": "[encoded data removed]",
      "text/plain": [
       "<Figure size 432x288 with 2 Axes>"
      ]
     },
     "metadata": {
      "needs_background": "light"
     },
     "output_type": "display_data"
    }
   ],
   "source": [
    "print(f\"trainig accuracy score: {balanced_accuracy_score(xgb_clf.predict(X_train), y_train):.3f}\")\n",
    "print(f\"val accuracy score: {balanced_accuracy_score(xgb_clf.predict(X_val), y_val):.3f}\")\n",
    "\n",
    "plot_confusion_matrix(xgb_clf, X_val, y_val)\n",
    "plt.show()"
   ]
  },
  {
   "cell_type": "markdown",
   "metadata": {},
   "source": [
    "### Thought about the pre-processing:\n",
    "1) Normalizing the features is not needed when using tree models, hence deleted.\n",
    "2) Extra features created using \"if\" statements are not needed since the trees have the property of creating such decision boundaries. Moreover - those additional features make the confusion matrix non-symetric! \n",
    "3) Turning the continous features into categorical was also not helpful, since tree models select thresholds in the training of the models."
   ]
  },
  {
   "cell_type": "markdown",
   "metadata": {},
   "source": [
    "The selected model is the XGB. \\\n",
    "Funny enough, using a new validation set (since it is seleceted by random every time) we get very different result, but similar oob score, which is reassuring we have selected the model well. \\\n",
    "Next, lets try and do some false analysis in order to maybe tune the model even better.\n",
    "### False Analysis"
   ]
  },
  {
   "cell_type": "code",
   "execution_count": 50,
   "metadata": {},
   "outputs": [],
   "source": [
    "# extracting the false positive and false negative examples\n",
    "pred_y_val = xgb_clf.predict(X_val)\n",
    "fp_ind = np.logical_and(pred_y_val==1, y_val==0)\n",
    "fn_ind = np.logical_and(pred_y_val==0, y_val==1)\n",
    "tp_ind = np.logical_and(pred_y_val==1, y_val==1)\n",
    "tn_ind = np.logical_and(pred_y_val==0, y_val==0)"
   ]
  },
  {
   "cell_type": "code",
   "execution_count": 1,
   "metadata": {},
   "outputs": [
    {
     "ename": "NameError",
     "evalue": "name 'X_val' is not defined",
     "output_type": "error",
     "traceback": [
      "\u001b[1;31m---------------------------------------------------------------------------\u001b[0m",
      "\u001b[1;31mNameError\u001b[0m                                 Traceback (most recent call last)",
      "\u001b[1;32m<ipython-input-1-351d339357d0>\u001b[0m in \u001b[0;36m<module>\u001b[1;34m\u001b[0m\n\u001b[1;32m----> 1\u001b[1;33m \u001b[0mtmp_X_val\u001b[0m \u001b[1;33m=\u001b[0m \u001b[0mX_val\u001b[0m\u001b[1;33m.\u001b[0m\u001b[0mcopy\u001b[0m\u001b[1;33m(\u001b[0m\u001b[1;33m)\u001b[0m\u001b[1;33m\u001b[0m\u001b[1;33m\u001b[0m\u001b[0m\n\u001b[0m",
      "\u001b[1;31mNameError\u001b[0m: name 'X_val' is not defined"
     ]
    }
   ],
   "source": [
    "tmp_X_val = X_val.copy()"
   ]
  },
  {
   "cell_type": "code",
   "execution_count": null,
   "metadata": {},
   "outputs": [],
   "source": [
    "tmp_X_val[[\"Embarked\", \"Title\"]] = encoder.inverse_transform(tmp_X_val[encoder.get_feature_names([\"Embarked\", \"Title\"])])\n",
    "tmp_X_val.drop(labels=encoder.get_feature_names([\"Embarked\", \"Title\"]), axis=1, inplace=True)\n",
    "tmp_X_val.head()"
   ]
  },
  {
   "cell_type": "code",
   "execution_count": null,
   "metadata": {},
   "outputs": [],
   "source": [
    "tmp_X_val.head()"
   ]
  },
  {
   "cell_type": "code",
   "execution_count": null,
   "metadata": {},
   "outputs": [],
   "source": [
    "fp = tmp_X_val.loc[fp_ind,:]\n",
    "fn = tmp_X_val.loc[fn_ind,:]\n",
    "tp = tmp_X_val.loc[tp_ind,:]\n",
    "tn = tmp_X_val.loc[tn_ind,:]"
   ]
  },
  {
   "cell_type": "code",
   "execution_count": null,
   "metadata": {},
   "outputs": [],
   "source": [
    "plt.figure(figsize=(10,10))\n",
    "plt.subplot(2,2,1)\n",
    "plt.hist(tp[\"Title\"].dropna())\n",
    "plt.title(\"True Positive\")\n",
    "plt.subplot(2,2,2)\n",
    "plt.hist(fp[\"Title\"])\n",
    "plt.title(\"False Positive\")\n",
    "plt.subplot(2,2,3)\n",
    "plt.hist(fn[\"Title\"])\n",
    "plt.title(\"False Negative\")\n",
    "plt.subplot(2,2,4)\n",
    "plt.hist(tn[\"Title\"])\n",
    "plt.title(\"True Negative\")\n",
    "plt.show()"
   ]
  },
  {
   "cell_type": "code",
   "execution_count": null,
   "metadata": {},
   "outputs": [],
   "source": [
    "plt.figure(figsize=(10,10))\n",
    "plt.subplot(2,2,1)\n",
    "plt.hist(tp[\"Embarked\"].dropna())\n",
    "plt.title(\"True Positive\")\n",
    "plt.subplot(2,2,2)\n",
    "plt.hist(fp[\"Embarked\"])\n",
    "plt.title(\"False Positive\")\n",
    "plt.subplot(2,2,3)\n",
    "plt.hist(fn[\"Embarked\"])\n",
    "plt.title(\"False Negative\")\n",
    "plt.subplot(2,2,4)\n",
    "plt.hist(tn[\"Embarked\"])\n",
    "plt.title(\"True Negative\")\n",
    "plt.show()"
   ]
  }
 ],
 "metadata": {
  "kernelspec": {
   "display_name": "Python 3",
   "language": "python",
   "name": "python3"
  },
  "language_info": {
   "codemirror_mode": {
    "name": "ipython",
    "version": 3
   },
   "file_extension": ".py",
   "mimetype": "text/x-python",
   "name": "python",
   "nbconvert_exporter": "python",
   "pygments_lexer": "ipython3",
   "version": "3.7.4"
  }
 },
 "nbformat": 4,
 "nbformat_minor": 4
}
