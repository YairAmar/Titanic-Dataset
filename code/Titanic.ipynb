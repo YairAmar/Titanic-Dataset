{
 "cells": [
  {
   "cell_type": "markdown",
   "metadata": {},
   "source": [
    "# Titanic data project"
   ]
  },
  {
   "cell_type": "markdown",
   "metadata": {},
   "source": [
    "In this notebook the well renowned Titanic dataset will be imported and explored. \\\n",
    "The goal of this project is to achieve high classification accuracy using different sklearn models."
   ]
  },
  {
   "cell_type": "markdown",
   "metadata": {},
   "source": [
    "## Importing necessary libraries"
   ]
  },
  {
   "cell_type": "markdown",
   "metadata": {},
   "source": [
    "Importing libraries relevant for the whole exercise. \\\n",
    "Packages needed for specific usages will be imported in the relevant cells."
   ]
  },
  {
   "cell_type": "code",
   "execution_count": 327,
   "metadata": {},
   "outputs": [],
   "source": [
    "import numpy as np\n",
    "import pandas as pd\n",
    "import matplotlib.pyplot as plt\n",
    "%matplotlib inline"
   ]
  },
  {
   "cell_type": "markdown",
   "metadata": {},
   "source": [
    "## Importing data"
   ]
  },
  {
   "cell_type": "markdown",
   "metadata": {},
   "source": [
    "In this part we use the already splitted data given in the Madors' exercise, since we want our train-test split to contain the same samples."
   ]
  },
  {
   "cell_type": "code",
   "execution_count": 328,
   "metadata": {},
   "outputs": [],
   "source": [
    "path_train = \"../data/train.csv\"\n",
    "path_test = \"../data/test.csv\"\n",
    "train = pd.read_csv(path_train)\n",
    "test = pd.read_csv(path_test)"
   ]
  },
  {
   "cell_type": "markdown",
   "metadata": {},
   "source": [
    "Lets take a quick peak at the data"
   ]
  },
  {
   "cell_type": "code",
   "execution_count": 329,
   "metadata": {},
   "outputs": [
    {
     "data": {
      "text/html": [
       "<div>\n",
       "<style scoped>\n",
       "    .dataframe tbody tr th:only-of-type {\n",
       "        vertical-align: middle;\n",
       "    }\n",
       "\n",
       "    .dataframe tbody tr th {\n",
       "        vertical-align: top;\n",
       "    }\n",
       "\n",
       "    .dataframe thead th {\n",
       "        text-align: right;\n",
       "    }\n",
       "</style>\n",
       "<table border=\"1\" class=\"dataframe\">\n",
       "  <thead>\n",
       "    <tr style=\"text-align: right;\">\n",
       "      <th></th>\n",
       "      <th>Survived</th>\n",
       "      <th>Pclass</th>\n",
       "      <th>Name</th>\n",
       "      <th>Sex</th>\n",
       "      <th>Age</th>\n",
       "      <th>SibSp</th>\n",
       "      <th>Parch</th>\n",
       "      <th>Ticket</th>\n",
       "      <th>Fare</th>\n",
       "      <th>Cabin</th>\n",
       "      <th>Embarked</th>\n",
       "    </tr>\n",
       "  </thead>\n",
       "  <tbody>\n",
       "    <tr>\n",
       "      <th>0</th>\n",
       "      <td>1</td>\n",
       "      <td>1</td>\n",
       "      <td>Cleaver, Miss. Alice</td>\n",
       "      <td>female</td>\n",
       "      <td>22.0</td>\n",
       "      <td>0</td>\n",
       "      <td>0</td>\n",
       "      <td>113781</td>\n",
       "      <td>151.5500</td>\n",
       "      <td>NaN</td>\n",
       "      <td>S</td>\n",
       "    </tr>\n",
       "    <tr>\n",
       "      <th>1</th>\n",
       "      <td>0</td>\n",
       "      <td>2</td>\n",
       "      <td>Hunt, Mr. George Henry</td>\n",
       "      <td>male</td>\n",
       "      <td>33.0</td>\n",
       "      <td>0</td>\n",
       "      <td>0</td>\n",
       "      <td>SCO/W 1585</td>\n",
       "      <td>12.2750</td>\n",
       "      <td>NaN</td>\n",
       "      <td>S</td>\n",
       "    </tr>\n",
       "    <tr>\n",
       "      <th>2</th>\n",
       "      <td>1</td>\n",
       "      <td>3</td>\n",
       "      <td>Nakid, Miss. Maria (\"Mary\")</td>\n",
       "      <td>female</td>\n",
       "      <td>1.0</td>\n",
       "      <td>0</td>\n",
       "      <td>2</td>\n",
       "      <td>2653</td>\n",
       "      <td>15.7417</td>\n",
       "      <td>NaN</td>\n",
       "      <td>C</td>\n",
       "    </tr>\n",
       "    <tr>\n",
       "      <th>3</th>\n",
       "      <td>0</td>\n",
       "      <td>3</td>\n",
       "      <td>Sage, Miss. Stella Anna</td>\n",
       "      <td>female</td>\n",
       "      <td>NaN</td>\n",
       "      <td>8</td>\n",
       "      <td>2</td>\n",
       "      <td>CA. 2343</td>\n",
       "      <td>69.5500</td>\n",
       "      <td>NaN</td>\n",
       "      <td>S</td>\n",
       "    </tr>\n",
       "    <tr>\n",
       "      <th>4</th>\n",
       "      <td>0</td>\n",
       "      <td>2</td>\n",
       "      <td>Mitchell, Mr. Henry Michael</td>\n",
       "      <td>male</td>\n",
       "      <td>70.0</td>\n",
       "      <td>0</td>\n",
       "      <td>0</td>\n",
       "      <td>C.A. 24580</td>\n",
       "      <td>10.5000</td>\n",
       "      <td>NaN</td>\n",
       "      <td>S</td>\n",
       "    </tr>\n",
       "    <tr>\n",
       "      <th>...</th>\n",
       "      <td>...</td>\n",
       "      <td>...</td>\n",
       "      <td>...</td>\n",
       "      <td>...</td>\n",
       "      <td>...</td>\n",
       "      <td>...</td>\n",
       "      <td>...</td>\n",
       "      <td>...</td>\n",
       "      <td>...</td>\n",
       "      <td>...</td>\n",
       "      <td>...</td>\n",
       "    </tr>\n",
       "    <tr>\n",
       "      <th>95</th>\n",
       "      <td>0</td>\n",
       "      <td>2</td>\n",
       "      <td>Ponesell, Mr. Martin</td>\n",
       "      <td>male</td>\n",
       "      <td>34.0</td>\n",
       "      <td>0</td>\n",
       "      <td>0</td>\n",
       "      <td>250647</td>\n",
       "      <td>13.0000</td>\n",
       "      <td>NaN</td>\n",
       "      <td>S</td>\n",
       "    </tr>\n",
       "    <tr>\n",
       "      <th>96</th>\n",
       "      <td>0</td>\n",
       "      <td>3</td>\n",
       "      <td>Christmann, Mr. Emil</td>\n",
       "      <td>male</td>\n",
       "      <td>29.0</td>\n",
       "      <td>0</td>\n",
       "      <td>0</td>\n",
       "      <td>343276</td>\n",
       "      <td>8.0500</td>\n",
       "      <td>NaN</td>\n",
       "      <td>S</td>\n",
       "    </tr>\n",
       "    <tr>\n",
       "      <th>97</th>\n",
       "      <td>0</td>\n",
       "      <td>3</td>\n",
       "      <td>Augustsson, Mr. Albert</td>\n",
       "      <td>male</td>\n",
       "      <td>23.0</td>\n",
       "      <td>0</td>\n",
       "      <td>0</td>\n",
       "      <td>347468</td>\n",
       "      <td>7.8542</td>\n",
       "      <td>NaN</td>\n",
       "      <td>S</td>\n",
       "    </tr>\n",
       "    <tr>\n",
       "      <th>98</th>\n",
       "      <td>0</td>\n",
       "      <td>2</td>\n",
       "      <td>Pernot, Mr. Rene</td>\n",
       "      <td>male</td>\n",
       "      <td>NaN</td>\n",
       "      <td>0</td>\n",
       "      <td>0</td>\n",
       "      <td>SC/PARIS 2131</td>\n",
       "      <td>15.0500</td>\n",
       "      <td>NaN</td>\n",
       "      <td>C</td>\n",
       "    </tr>\n",
       "    <tr>\n",
       "      <th>99</th>\n",
       "      <td>0</td>\n",
       "      <td>3</td>\n",
       "      <td>Scanlan, Mr. James</td>\n",
       "      <td>male</td>\n",
       "      <td>NaN</td>\n",
       "      <td>0</td>\n",
       "      <td>0</td>\n",
       "      <td>36209</td>\n",
       "      <td>7.7250</td>\n",
       "      <td>NaN</td>\n",
       "      <td>Q</td>\n",
       "    </tr>\n",
       "  </tbody>\n",
       "</table>\n",
       "<p>100 rows × 11 columns</p>\n",
       "</div>"
      ],
      "text/plain": [
       "    Survived  Pclass                         Name     Sex   Age  SibSp  Parch  \\\n",
       "0          1       1         Cleaver, Miss. Alice  female  22.0      0      0   \n",
       "1          0       2       Hunt, Mr. George Henry    male  33.0      0      0   \n",
       "2          1       3  Nakid, Miss. Maria (\"Mary\")  female   1.0      0      2   \n",
       "3          0       3      Sage, Miss. Stella Anna  female   NaN      8      2   \n",
       "4          0       2  Mitchell, Mr. Henry Michael    male  70.0      0      0   \n",
       "..       ...     ...                          ...     ...   ...    ...    ...   \n",
       "95         0       2         Ponesell, Mr. Martin    male  34.0      0      0   \n",
       "96         0       3         Christmann, Mr. Emil    male  29.0      0      0   \n",
       "97         0       3       Augustsson, Mr. Albert    male  23.0      0      0   \n",
       "98         0       2             Pernot, Mr. Rene    male   NaN      0      0   \n",
       "99         0       3           Scanlan, Mr. James    male   NaN      0      0   \n",
       "\n",
       "           Ticket      Fare Cabin Embarked  \n",
       "0          113781  151.5500   NaN        S  \n",
       "1      SCO/W 1585   12.2750   NaN        S  \n",
       "2            2653   15.7417   NaN        C  \n",
       "3        CA. 2343   69.5500   NaN        S  \n",
       "4      C.A. 24580   10.5000   NaN        S  \n",
       "..            ...       ...   ...      ...  \n",
       "95         250647   13.0000   NaN        S  \n",
       "96         343276    8.0500   NaN        S  \n",
       "97         347468    7.8542   NaN        S  \n",
       "98  SC/PARIS 2131   15.0500   NaN        C  \n",
       "99          36209    7.7250   NaN        Q  \n",
       "\n",
       "[100 rows x 11 columns]"
      ]
     },
     "execution_count": 329,
     "metadata": {},
     "output_type": "execute_result"
    }
   ],
   "source": [
    "train.head(100)"
   ]
  },
  {
   "cell_type": "markdown",
   "metadata": {},
   "source": [
    "## Data Cleaning "
   ]
  },
  {
   "cell_type": "markdown",
   "metadata": {},
   "source": [
    "K den, we need to remove irrelevant fields and change the notation of some fields."
   ]
  },
  {
   "cell_type": "code",
   "execution_count": 330,
   "metadata": {},
   "outputs": [
    {
     "data": {
      "text/html": [
       "<div>\n",
       "<style scoped>\n",
       "    .dataframe tbody tr th:only-of-type {\n",
       "        vertical-align: middle;\n",
       "    }\n",
       "\n",
       "    .dataframe tbody tr th {\n",
       "        vertical-align: top;\n",
       "    }\n",
       "\n",
       "    .dataframe thead th {\n",
       "        text-align: right;\n",
       "    }\n",
       "</style>\n",
       "<table border=\"1\" class=\"dataframe\">\n",
       "  <thead>\n",
       "    <tr style=\"text-align: right;\">\n",
       "      <th></th>\n",
       "      <th>Survived</th>\n",
       "      <th>Pclass</th>\n",
       "      <th>Name</th>\n",
       "      <th>Sex</th>\n",
       "      <th>Age</th>\n",
       "      <th>SibSp</th>\n",
       "      <th>Parch</th>\n",
       "      <th>Fare</th>\n",
       "      <th>Embarked</th>\n",
       "    </tr>\n",
       "  </thead>\n",
       "  <tbody>\n",
       "    <tr>\n",
       "      <th>0</th>\n",
       "      <td>1</td>\n",
       "      <td>1</td>\n",
       "      <td>Cleaver, Miss. Alice</td>\n",
       "      <td>female</td>\n",
       "      <td>22.0</td>\n",
       "      <td>0</td>\n",
       "      <td>0</td>\n",
       "      <td>151.5500</td>\n",
       "      <td>S</td>\n",
       "    </tr>\n",
       "    <tr>\n",
       "      <th>1</th>\n",
       "      <td>0</td>\n",
       "      <td>2</td>\n",
       "      <td>Hunt, Mr. George Henry</td>\n",
       "      <td>male</td>\n",
       "      <td>33.0</td>\n",
       "      <td>0</td>\n",
       "      <td>0</td>\n",
       "      <td>12.2750</td>\n",
       "      <td>S</td>\n",
       "    </tr>\n",
       "    <tr>\n",
       "      <th>2</th>\n",
       "      <td>1</td>\n",
       "      <td>3</td>\n",
       "      <td>Nakid, Miss. Maria (\"Mary\")</td>\n",
       "      <td>female</td>\n",
       "      <td>1.0</td>\n",
       "      <td>0</td>\n",
       "      <td>2</td>\n",
       "      <td>15.7417</td>\n",
       "      <td>C</td>\n",
       "    </tr>\n",
       "    <tr>\n",
       "      <th>3</th>\n",
       "      <td>0</td>\n",
       "      <td>3</td>\n",
       "      <td>Sage, Miss. Stella Anna</td>\n",
       "      <td>female</td>\n",
       "      <td>NaN</td>\n",
       "      <td>8</td>\n",
       "      <td>2</td>\n",
       "      <td>69.5500</td>\n",
       "      <td>S</td>\n",
       "    </tr>\n",
       "    <tr>\n",
       "      <th>4</th>\n",
       "      <td>0</td>\n",
       "      <td>2</td>\n",
       "      <td>Mitchell, Mr. Henry Michael</td>\n",
       "      <td>male</td>\n",
       "      <td>70.0</td>\n",
       "      <td>0</td>\n",
       "      <td>0</td>\n",
       "      <td>10.5000</td>\n",
       "      <td>S</td>\n",
       "    </tr>\n",
       "  </tbody>\n",
       "</table>\n",
       "</div>"
      ],
      "text/plain": [
       "   Survived  Pclass                         Name     Sex   Age  SibSp  Parch  \\\n",
       "0         1       1         Cleaver, Miss. Alice  female  22.0      0      0   \n",
       "1         0       2       Hunt, Mr. George Henry    male  33.0      0      0   \n",
       "2         1       3  Nakid, Miss. Maria (\"Mary\")  female   1.0      0      2   \n",
       "3         0       3      Sage, Miss. Stella Anna  female   NaN      8      2   \n",
       "4         0       2  Mitchell, Mr. Henry Michael    male  70.0      0      0   \n",
       "\n",
       "       Fare Embarked  \n",
       "0  151.5500        S  \n",
       "1   12.2750        S  \n",
       "2   15.7417        C  \n",
       "3   69.5500        S  \n",
       "4   10.5000        S  "
      ]
     },
     "execution_count": 330,
     "metadata": {},
     "output_type": "execute_result"
    }
   ],
   "source": [
    "# first we remove the features that wont help us, and mostly have missing values.\n",
    "\n",
    "train.drop([\"Cabin\", \"Ticket\"], axis=1, inplace=True)\n",
    "test.drop([\"Cabin\", \"Ticket\"], axis=1, inplace=True)\n",
    "train.reset_index(drop=True, inplace=True)\n",
    "test.reset_index(drop=True, inplace=True)\n",
    "train.head(5)"
   ]
  },
  {
   "cell_type": "markdown",
   "metadata": {},
   "source": [
    "Now lets see how many NaN values we have in the table (should we drop 'em?)"
   ]
  },
  {
   "cell_type": "code",
   "execution_count": 331,
   "metadata": {},
   "outputs": [
    {
     "name": "stdout",
     "output_type": "stream",
     "text": [
      "There are 712 entries in the training set.\n"
     ]
    },
    {
     "data": {
      "text/plain": [
       "Survived      0\n",
       "Pclass        0\n",
       "Name          0\n",
       "Sex           0\n",
       "Age         138\n",
       "SibSp         0\n",
       "Parch         0\n",
       "Fare          0\n",
       "Embarked      2\n",
       "dtype: int64"
      ]
     },
     "execution_count": 331,
     "metadata": {},
     "output_type": "execute_result"
    }
   ],
   "source": [
    "num_of_nan = train.isnull().sum(axis = 0)\n",
    "print(f\"There are {train.shape[0]} entries in the training set.\")\n",
    "num_of_nan"
   ]
  },
  {
   "cell_type": "markdown",
   "metadata": {},
   "source": [
    "* Well, thats kinda sux. we'll have to think what to do with this missing data. \n",
    "* Age seems to be somewhat informative so maybe dropping it will be a bad idea. We will do it now anyways as a naive solution \\\n",
    "Idea to try later: train a regression model to predict the age using the other features. \\\n",
    "Also: maybe trying to use last names in order to extract family relations\n",
    "* There are only 2 missing values in the \"Embarked\" column so we can just drop it."
   ]
  },
  {
   "cell_type": "code",
   "execution_count": 332,
   "metadata": {},
   "outputs": [
    {
     "name": "stdout",
     "output_type": "stream",
     "text": [
      "There are 710 entries in the training set.\n"
     ]
    }
   ],
   "source": [
    "train.dropna(subset=[\"Embarked\"], inplace=True)\n",
    "# Sanity check\n",
    "num_of_nan = train.isnull().sum(axis = 0)\n",
    "print(f\"There are {train.shape[0]} entries in the training set.\")\n",
    "num_of_nan\n",
    "train.reset_index(drop=True, inplace=True)"
   ]
  },
  {
   "cell_type": "markdown",
   "metadata": {},
   "source": [
    "Noice! \\\n",
    "Next we encode categorical features with numerical values \n",
    "* \"Embarked\" will be converted to 1-hot vector after the visualizations.\n",
    "* We mark female as 0 and male as 1"
   ]
  },
  {
   "cell_type": "code",
   "execution_count": 333,
   "metadata": {},
   "outputs": [
    {
     "data": {
      "text/html": [
       "<div>\n",
       "<style scoped>\n",
       "    .dataframe tbody tr th:only-of-type {\n",
       "        vertical-align: middle;\n",
       "    }\n",
       "\n",
       "    .dataframe tbody tr th {\n",
       "        vertical-align: top;\n",
       "    }\n",
       "\n",
       "    .dataframe thead th {\n",
       "        text-align: right;\n",
       "    }\n",
       "</style>\n",
       "<table border=\"1\" class=\"dataframe\">\n",
       "  <thead>\n",
       "    <tr style=\"text-align: right;\">\n",
       "      <th></th>\n",
       "      <th>Survived</th>\n",
       "      <th>Pclass</th>\n",
       "      <th>Name</th>\n",
       "      <th>Sex</th>\n",
       "      <th>Age</th>\n",
       "      <th>SibSp</th>\n",
       "      <th>Parch</th>\n",
       "      <th>Fare</th>\n",
       "      <th>Embarked</th>\n",
       "    </tr>\n",
       "  </thead>\n",
       "  <tbody>\n",
       "    <tr>\n",
       "      <th>0</th>\n",
       "      <td>1</td>\n",
       "      <td>1</td>\n",
       "      <td>Cleaver, Miss. Alice</td>\n",
       "      <td>0</td>\n",
       "      <td>22.0</td>\n",
       "      <td>0</td>\n",
       "      <td>0</td>\n",
       "      <td>151.5500</td>\n",
       "      <td>1</td>\n",
       "    </tr>\n",
       "    <tr>\n",
       "      <th>1</th>\n",
       "      <td>0</td>\n",
       "      <td>2</td>\n",
       "      <td>Hunt, Mr. George Henry</td>\n",
       "      <td>1</td>\n",
       "      <td>33.0</td>\n",
       "      <td>0</td>\n",
       "      <td>0</td>\n",
       "      <td>12.2750</td>\n",
       "      <td>1</td>\n",
       "    </tr>\n",
       "    <tr>\n",
       "      <th>2</th>\n",
       "      <td>1</td>\n",
       "      <td>3</td>\n",
       "      <td>Nakid, Miss. Maria (\"Mary\")</td>\n",
       "      <td>0</td>\n",
       "      <td>1.0</td>\n",
       "      <td>0</td>\n",
       "      <td>2</td>\n",
       "      <td>15.7417</td>\n",
       "      <td>0</td>\n",
       "    </tr>\n",
       "    <tr>\n",
       "      <th>3</th>\n",
       "      <td>0</td>\n",
       "      <td>3</td>\n",
       "      <td>Sage, Miss. Stella Anna</td>\n",
       "      <td>0</td>\n",
       "      <td>NaN</td>\n",
       "      <td>8</td>\n",
       "      <td>2</td>\n",
       "      <td>69.5500</td>\n",
       "      <td>1</td>\n",
       "    </tr>\n",
       "    <tr>\n",
       "      <th>4</th>\n",
       "      <td>0</td>\n",
       "      <td>2</td>\n",
       "      <td>Mitchell, Mr. Henry Michael</td>\n",
       "      <td>1</td>\n",
       "      <td>70.0</td>\n",
       "      <td>0</td>\n",
       "      <td>0</td>\n",
       "      <td>10.5000</td>\n",
       "      <td>1</td>\n",
       "    </tr>\n",
       "  </tbody>\n",
       "</table>\n",
       "</div>"
      ],
      "text/plain": [
       "   Survived  Pclass                         Name  Sex   Age  SibSp  Parch  \\\n",
       "0         1       1         Cleaver, Miss. Alice    0  22.0      0      0   \n",
       "1         0       2       Hunt, Mr. George Henry    1  33.0      0      0   \n",
       "2         1       3  Nakid, Miss. Maria (\"Mary\")    0   1.0      0      2   \n",
       "3         0       3      Sage, Miss. Stella Anna    0   NaN      8      2   \n",
       "4         0       2  Mitchell, Mr. Henry Michael    1  70.0      0      0   \n",
       "\n",
       "       Fare  Embarked  \n",
       "0  151.5500         1  \n",
       "1   12.2750         1  \n",
       "2   15.7417         0  \n",
       "3   69.5500         1  \n",
       "4   10.5000         1  "
      ]
     },
     "execution_count": 333,
     "metadata": {},
     "output_type": "execute_result"
    }
   ],
   "source": [
    "train[\"Sex\"].replace({\"female\":0, \"male\":1}, inplace=True)\n",
    "test[\"Sex\"].replace({\"female\":0, \"male\":1}, inplace=True)\n",
    "train[\"Embarked\"].replace({\"C\":0, \"S\":1, \"Q\":2}, inplace=True)\n",
    "test[\"Embarked\"].replace({\"C\":0, \"S\":1, \"Q\":2}, inplace=True)\n",
    "train.head(5)"
   ]
  },
  {
   "cell_type": "markdown",
   "metadata": {},
   "source": [
    "Almost done cleaning. Later we'll also deal with the missing age. \\\n",
    "Time to plot some pretty graphs"
   ]
  },
  {
   "cell_type": "markdown",
   "metadata": {},
   "source": [
    "Splitting the DataFrame to X and y and we are done!"
   ]
  },
  {
   "cell_type": "code",
   "execution_count": 334,
   "metadata": {},
   "outputs": [],
   "source": [
    "X_train = train.drop([\"Survived\"], axis=1)\n",
    "y_train = train[\"Survived\"]\n",
    "X_test = test.drop([\"Survived\"], axis=1)\n",
    "y_test = test[\"Survived\"]"
   ]
  },
  {
   "cell_type": "markdown",
   "metadata": {},
   "source": [
    "checking whether the data is balanced:\n"
   ]
  },
  {
   "cell_type": "code",
   "execution_count": 335,
   "metadata": {},
   "outputs": [
    {
     "data": {
      "text/plain": [
       "37.605633802816904"
      ]
     },
     "execution_count": 335,
     "metadata": {},
     "output_type": "execute_result"
    }
   ],
   "source": [
    "np.sum(y_train)/len(y_train)*100"
   ]
  },
  {
   "cell_type": "markdown",
   "metadata": {},
   "source": [
    "Well, only 37.61% of the people in the training set lived. this is not a balanced dataset, while not being crazy-unbalanced as well. \\\n",
    "Let's keep that in mind for when we train our classifiers..."
   ]
  },
  {
   "cell_type": "markdown",
   "metadata": {},
   "source": [
    "## Data exploration and visualization"
   ]
  },
  {
   "cell_type": "markdown",
   "metadata": {},
   "source": [
    "Let's start by trying to get a grasp as to how hard should the data be to seperate, using T-SNE. \\\n",
    "For T-SNE we should first rescale the features in order to ensure they all have the same impact"
   ]
  },
  {
   "cell_type": "code",
   "execution_count": 336,
   "metadata": {},
   "outputs": [
    {
     "data": {
      "image/png": "[encoded data removed]",
      "text/plain": [
       "<Figure size 360x360 with 1 Axes>"
      ]
     },
     "metadata": {
      "needs_background": "light"
     },
     "output_type": "display_data"
    }
   ],
   "source": [
    "from sklearn.preprocessing import normalize\n",
    "from sklearn.manifold import TSNE\n",
    "\n",
    "train_without_na = train.dropna(subset=[\"Age\"])\n",
    "X_train_without_na = train_without_na.drop([\"Survived\",\"Name\"], axis=1)\n",
    "y_train_without_na = train_without_na[\"Survived\"]\n",
    "\n",
    "X_normalized = normalize(X_train_without_na)\n",
    "X_embedded = TSNE(perplexity=14, n_iter=300).fit_transform(X_normalized)\n",
    "plt.figure(linewidth=2, edgecolor=\"#04253a\", figsize=(5,5))\n",
    "plt.scatter(X_embedded[y_train_without_na == 1, 0], X_embedded[y_train_without_na == 1, 1], marker='+')\n",
    "plt.scatter(X_embedded[y_train_without_na == 0, 0], X_embedded[y_train_without_na == 0, 1], marker='3')\n",
    "plt.axis(\"off\")\n",
    "plt.title(\"2-D represntation of the data\")\n",
    "plt.show()"
   ]
  },
  {
   "cell_type": "markdown",
   "metadata": {},
   "source": [
    "Looks somewhat seperable. Tbh, there is not much to learn from it. "
   ]
  },
  {
   "cell_type": "markdown",
   "metadata": {},
   "source": [
    "### Histograms of the contiguous features\n"
   ]
  },
  {
   "cell_type": "code",
   "execution_count": 337,
   "metadata": {},
   "outputs": [
    {
     "data": {
      "image/png": "[encoded data removed]",
      "text/plain": [
       "<Figure size 720x360 with 2 Axes>"
      ]
     },
     "metadata": {
      "needs_background": "light"
     },
     "output_type": "display_data"
    }
   ],
   "source": [
    "import seaborn as sns\n",
    "\n",
    "\n",
    "sns.displot(data=train,x=\"Age\",hue=\"Survived\", alpha=0.4,palette=['g','m'],legend=False,col=\"Sex\")\n",
    "plt.legend([\"died\", \"lived\"])\n",
    "plt.show()"
   ]
  },
  {
   "cell_type": "markdown",
   "metadata": {},
   "source": [
    "Notice that most of the men who survived are either young kids, or young men - which means they could use physical strength in order to find their way to a boat (maybe?), \\\n",
    "this idea is supported by the fact that men over the age of 50 are extremly likely to end up dead in this case"
   ]
  },
  {
   "cell_type": "code",
   "execution_count": 338,
   "metadata": {},
   "outputs": [
    {
     "data": {
      "image/png": "[encoded data removed]",
      "text/plain": [
       "<Figure size 360x360 with 1 Axes>"
      ]
     },
     "metadata": {
      "needs_background": "light"
     },
     "output_type": "display_data"
    }
   ],
   "source": [
    "ax = sns.displot(data=train,x=\"Fare\",hue=\"Survived\", alpha=0.4, palette=['g','m'],legend=False)\n",
    "plt.legend([\"died\", \"lived\"])\n",
    "plt.title(\"Fare\")\n",
    "ax.set(xlim=(0, 175))\n",
    "plt.show()"
   ]
  },
  {
   "cell_type": "code",
   "execution_count": 339,
   "metadata": {},
   "outputs": [
    {
     "data": {
      "image/png": "[encoded data removed]",
      "text/plain": [
       "<Figure size 720x360 with 2 Axes>"
      ]
     },
     "metadata": {
      "needs_background": "light"
     },
     "output_type": "display_data"
    }
   ],
   "source": [
    "# reminder: SibSp = Number of Siblings/Spouses Aboard\n",
    "ax = sns.displot(data=train,x=\"SibSp\",hue=\"Survived\", alpha=0.4, palette=['g','m'],legend=False, bins=5,shrink=.9,col=\"Sex\")\n",
    "plt.legend([\"died\", \"lived\"])\n",
    "plt.show()"
   ]
  },
  {
   "cell_type": "markdown",
   "metadata": {},
   "source": [
    "This graph results in a nice idea - we can see that whenever a female has more than 1 SibSp member with her on board - she is very likely to live! \\\n",
    "From this graph and the one following 3 features will be constructed:\n",
    "* Single - if someone is alone onboard\n",
    "* Lot_Sib - (=Lots of siblings) SibSp>=2\n",
    "* Lot_Child - (=Lots of children) Parch >= 4"
   ]
  },
  {
   "cell_type": "code",
   "execution_count": 340,
   "metadata": {},
   "outputs": [
    {
     "data": {
      "image/png": "[encoded data removed]",
      "text/plain": [
       "<Figure size 360x360 with 1 Axes>"
      ]
     },
     "metadata": {
      "needs_background": "light"
     },
     "output_type": "display_data"
    }
   ],
   "source": [
    "# reminder: Parch = Number of Parents/Children Aboard\n",
    "ax = sns.displot(data=train,x=\"Parch\",hue=\"Survived\", alpha=0.4, palette=['g','m'],legend=False, bins=6,shrink=.9)\n",
    "plt.legend([\"died\", \"lived\"])\n",
    "plt.show()"
   ]
  },
  {
   "cell_type": "markdown",
   "metadata": {},
   "source": [
    "This result is not suprising - it is likely that whoever had children or old parents to take care of had a lower chance of survival"
   ]
  },
  {
   "cell_type": "code",
   "execution_count": 341,
   "metadata": {},
   "outputs": [
    {
     "data": {
      "image/png": "[encoded data removed]",
      "text/plain": [
       "<Figure size 360x360 with 1 Axes>"
      ]
     },
     "metadata": {
      "needs_background": "light"
     },
     "output_type": "display_data"
    }
   ],
   "source": [
    "tmp_train = train.copy()\n",
    "tmp_train[\"Fam_size\"] = tmp_train[\"SibSp\"] + tmp_train[\"Parch\"]\n",
    "ax = sns.displot(data=tmp_train,x=\"Fam_size\",hue=\"Survived\", alpha=0.4, palette=['g','m'],legend=False, bins=7,shrink=.9)\n",
    "plt.legend([\"died\", \"lived\"])\n",
    "plt.show()"
   ]
  },
  {
   "cell_type": "markdown",
   "metadata": {},
   "source": [
    "From the above graph another feature will be constructed: \n",
    "* Big_Fam - (=Big family) Fam_Size>=4"
   ]
  },
  {
   "cell_type": "markdown",
   "metadata": {},
   "source": [
    "### Pair plots\n",
    "* first, couples of Categorical and Continuous features"
   ]
  },
  {
   "cell_type": "code",
   "execution_count": 342,
   "metadata": {},
   "outputs": [
    {
     "data": {
      "image/png": "[encoded data removed]",
      "text/plain": [
       "<Figure size 1584x432 with 10 Axes>"
      ]
     },
     "metadata": {
      "needs_background": "light"
     },
     "output_type": "display_data"
    }
   ],
   "source": [
    "num_vars = ['Age', 'Fare']\n",
    "cat_vars = ['Pclass', 'Embarked', 'Sex', \"SibSp\",\"Parch\"]\n",
    "\n",
    "\n",
    "plt.figure(figsize=(22,6))\n",
    "\n",
    "for j,cont_variable in enumerate(num_vars):\n",
    "    for i,cat_variable in enumerate(cat_vars):\n",
    "        plt.subplot(2,5,i+1+5*j)\n",
    "        sns.violinplot(x=cat_variable,y=cont_variable, hue=\"Survived\", data=train, split=True)\n",
    "\n",
    "plt.show()"
   ]
  },
  {
   "cell_type": "code",
   "execution_count": 343,
   "metadata": {},
   "outputs": [
    {
     "data": {
      "image/png": "[encoded data removed]",
      "text/plain": [
       "<Figure size 1131.88x720 with 6 Axes>"
      ]
     },
     "metadata": {
      "needs_background": "light"
     },
     "output_type": "display_data"
    }
   ],
   "source": [
    "sns.relplot(data=train, x=\"Fare\", y=\"Age\", hue=\"Survived\", col=\"Pclass\", row=\"Sex\")\n",
    "plt.show()"
   ]
  },
  {
   "cell_type": "markdown",
   "metadata": {},
   "source": [
    "We can see that female passengers from the 1st and 2nd classes have high chances of surviving, while also young, male passengers from the 2nd class lived as well"
   ]
  },
  {
   "cell_type": "code",
   "execution_count": 344,
   "metadata": {},
   "outputs": [
    {
     "data": {
      "image/png": "[encoded data removed]",
      "text/plain": [
       "<Figure size 402.375x360 with 1 Axes>"
      ]
     },
     "metadata": {
      "needs_background": "light"
     },
     "output_type": "display_data"
    }
   ],
   "source": [
    "sns.catplot(x=\"Pclass\", y=\"Survived\", hue=\"Sex\", kind=\"bar\", data=train)\n",
    "plt.show()"
   ]
  },
  {
   "cell_type": "markdown",
   "metadata": {},
   "source": [
    "As seen in the above graph, we can see that female passengers of the 2nd class are very likely to survive, while 2nd class men arent likely to livesns.catplot(x=\"Pclass\", y=\"Survived\", hue=\"Sex\", kind=\"bar\", data=train)\n",
    "plt.show()"
   ]
  },
  {
   "cell_type": "code",
   "execution_count": 345,
   "metadata": {},
   "outputs": [
    {
     "data": {
      "image/png": "[encoded data removed]",
      "text/plain": [
       "<Figure size 402.375x360 with 1 Axes>"
      ]
     },
     "metadata": {
      "needs_background": "light"
     },
     "output_type": "display_data"
    }
   ],
   "source": [
    "sns.catplot(x=\"Embarked\", y=\"Survived\", hue=\"Pclass\", kind=\"bar\", data=train)\n",
    "plt.show()"
   ]
  },
  {
   "cell_type": "markdown",
   "metadata": {},
   "source": [
    "From the above graph we can see that passengers for whom Embarked in Queenstown and are from the 2nd class have very high chances of surviving. \\\n",
    "Lets isolate them with another feature:\n",
    "* Mid_Class_Q - (Middle class passenger from Queenstown) "
   ]
  },
  {
   "cell_type": "markdown",
   "metadata": {},
   "source": [
    "## Feature engineering - part 1\n",
    "1) lets keep the age, we turn the age into a categorical feature as follows:\n",
    "-2, 0, 2, 17, 30, 65, 100\n",
    "* Unknown age\n",
    "* Toddler/baby - age 0-2\n",
    "* Child - age 2-17\n",
    "* Young_adult - 17-30\n",
    "* Adult - 30-65\n",
    "* Elderly - 65+\n",
    "2) we'll make the fare a categorical feature as well:\n",
    "* Fare>100\n",
    "* 50<Fare<100\n",
    "* 25<Fare<50\n",
    "* 0<Fare<25\n",
    "* Fare==0\n",
    "3) Family size:\n",
    "* Family_size = SibSp+Parch\n",
    "4) Single:\n",
    "* we want to have a feature that marks single people since they survive more often.\n",
    "5) Lot_Sib - (=Lots of siblings) \n",
    "* SibSp>=2\n",
    "6) Lot_Child - (=Lots of children) \n",
    "* Parch >= 4\n",
    "7) Big_Fam - (=Big family) \n",
    "* Fam_Size >= 4\n",
    "8) Mid_Class_Q - (Middle class passenger from Queenstown)\n",
    "*  Pclass==2 and Embarked==2\n",
    "9) Title:\n",
    "* Extracting titles using regex and turning it into categrical data."
   ]
  },
  {
   "cell_type": "code",
   "execution_count": 346,
   "metadata": {},
   "outputs": [],
   "source": [
    "# 1. Age\n",
    "X_train[\"Age\"].fillna(-1, inplace=True) #unknown age = -1\n",
    "category = pd.cut(X_train.Age, bins=[-1,0,2,17,30,65,100],labels=['Unknown','Toddler/baby', 'Child', 'Young_adult' ,'Adult', 'Elderly'])\n",
    "X_train.insert(5,'Age_Group',category)\n",
    "X_train = pd.get_dummies(data=X_train, columns=[\"Age_Group\"], dummy_na=True)\n",
    "X_train = X_train.drop([\"Age\"], axis=1)"
   ]
  },
  {
   "cell_type": "code",
   "execution_count": 347,
   "metadata": {},
   "outputs": [],
   "source": [
    "# 2. Fare\n",
    "category = pd.cut(X_train.Fare, bins=[0,0.5,25,50,100,1000],labels=[0,1,2,3,4])\n",
    "X_train.insert(6,'Fare_Category',category)\n",
    "X_train = pd.get_dummies(data=X_train, columns=[\"Fare_Category\"])\n",
    "X_train = X_train.drop([\"Fare\"], axis=1)"
   ]
  },
  {
   "cell_type": "code",
   "execution_count": 348,
   "metadata": {},
   "outputs": [],
   "source": [
    "# 3. Family-Size\n",
    "X_train[\"Family_Size\"] = X_train[\"Parch\"] + X_train[\"SibSp\"]"
   ]
  },
  {
   "cell_type": "code",
   "execution_count": 349,
   "metadata": {},
   "outputs": [],
   "source": [
    "# 4. Single\n",
    "X_train[\"Single\"] = np.logical_and(X_train[\"Parch\"]==0, X_train[\"SibSp\"]==0).astype(int)"
   ]
  },
  {
   "cell_type": "code",
   "execution_count": 350,
   "metadata": {},
   "outputs": [],
   "source": [
    "# 5. Lot_Sib\n",
    "X_train[\"Lot_Sib\"] = (X_train[\"SibSp\"] >= 2).astype(int)"
   ]
  },
  {
   "cell_type": "code",
   "execution_count": 351,
   "metadata": {},
   "outputs": [],
   "source": [
    "# 6. Lot_Child\n",
    "X_train[\"Lot_Child\"] = (X_train[\"Parch\"] >= 4).astype(int)"
   ]
  },
  {
   "cell_type": "code",
   "execution_count": 352,
   "metadata": {},
   "outputs": [],
   "source": [
    "# 7. Big_Fam\n",
    "X_train[\"Big_Fam\"] = (X_train[\"Family_Size\"] >= 4).astype(int)"
   ]
  },
  {
   "cell_type": "code",
   "execution_count": 353,
   "metadata": {},
   "outputs": [],
   "source": [
    "# 8. Mid_Class_Q \n",
    "X_train[\"Mid_Class_Q\"] = np.logical_and(X_train[\"Pclass\"]==2 , X_train[\"Embarked\"]==2).astype(int)"
   ]
  },
  {
   "cell_type": "code",
   "execution_count": 354,
   "metadata": {},
   "outputs": [],
   "source": [
    "# 9. Title \n",
    "import re\n",
    "\n",
    "\n",
    "extract_title = lambda x: re.split(\"\\.\",re.split(\",\",x)[1])[0]\n",
    "X_train[\"Title\"] = X_train[\"Name\"].apply(extract_title)\n",
    "X_train.drop([\"Name\"], axis=1, inplace=True)"
   ]
  },
  {
   "cell_type": "markdown",
   "metadata": {},
   "source": [
    "### Splitting Data"
   ]
  },
  {
   "cell_type": "markdown",
   "metadata": {},
   "source": [
    "now we need to make sure we use a validation batch for model selection"
   ]
  },
  {
   "cell_type": "code",
   "execution_count": 355,
   "metadata": {},
   "outputs": [],
   "source": [
    "from sklearn.model_selection import train_test_split\n",
    "\n",
    "\n",
    "X_train, X_val, y_train, y_val = train_test_split(X_train, y_train, test_size=0.3)\n",
    "X_train.reset_index(drop=True, inplace=True)\n",
    "X_val.reset_index(drop=True, inplace=True)\n",
    "y_train.reset_index(drop=True, inplace=True)\n",
    "y_val.reset_index(drop=True, inplace=True)"
   ]
  },
  {
   "cell_type": "code",
   "execution_count": 357,
   "metadata": {},
   "outputs": [],
   "source": [
    "from sklearn.preprocessing import OneHotEncoder\n",
    "\n",
    "\n",
    "def dummy_features(data, encoder, fit: bool = False):\n",
    "    if fit:\n",
    "        encoder.fit(data[[\"Embarked\", \"Title\"]])\n",
    "\n",
    "    one_hot_features = encoder.transform(data[[\"Embarked\", \"Title\"]])\n",
    "\n",
    "    column_names = encoder.get_feature_names([\"Embarked\", \"Title\"])\n",
    "    one_hot_features = pd.DataFrame(one_hot_features, columns=column_names)\n",
    "    data = data.join(one_hot_features)\n",
    "    data.drop(labels=[\"Embarked\", \"Title\"], axis=1, inplace=True)\n",
    "    return data, encoder\n",
    "\n",
    "encoder = OneHotEncoder(sparse=False, handle_unknown='ignore')\n",
    "X_train, encoder = dummy_features(data=X_train, encoder=encoder, fit=True)\n",
    "X_val, encoder = dummy_features(data=X_val, encoder=encoder, fit=False)"
   ]
  },
  {
   "cell_type": "markdown",
   "metadata": {},
   "source": [
    "### Standard scaling the data:\n",
    "first we normalize contingous features."
   ]
  },
  {
   "cell_type": "code",
   "execution_count": 359,
   "metadata": {
    "tags": []
   },
   "outputs": [
    {
     "data": {
      "text/html": [
       "<div>\n",
       "<style scoped>\n",
       "    .dataframe tbody tr th:only-of-type {\n",
       "        vertical-align: middle;\n",
       "    }\n",
       "\n",
       "    .dataframe tbody tr th {\n",
       "        vertical-align: top;\n",
       "    }\n",
       "\n",
       "    .dataframe thead th {\n",
       "        text-align: right;\n",
       "    }\n",
       "</style>\n",
       "<table border=\"1\" class=\"dataframe\">\n",
       "  <thead>\n",
       "    <tr style=\"text-align: right;\">\n",
       "      <th></th>\n",
       "      <th>Pclass</th>\n",
       "      <th>Sex</th>\n",
       "      <th>SibSp</th>\n",
       "      <th>Parch</th>\n",
       "      <th>Age_Group_Unknown</th>\n",
       "      <th>Age_Group_Toddler/baby</th>\n",
       "      <th>Age_Group_Child</th>\n",
       "      <th>Age_Group_Young_adult</th>\n",
       "      <th>Age_Group_Adult</th>\n",
       "      <th>Age_Group_Elderly</th>\n",
       "      <th>...</th>\n",
       "      <th>Title_ Major</th>\n",
       "      <th>Title_ Master</th>\n",
       "      <th>Title_ Miss</th>\n",
       "      <th>Title_ Mlle</th>\n",
       "      <th>Title_ Mme</th>\n",
       "      <th>Title_ Mr</th>\n",
       "      <th>Title_ Mrs</th>\n",
       "      <th>Title_ Rev</th>\n",
       "      <th>Title_ Sir</th>\n",
       "      <th>Title_ the Countess</th>\n",
       "    </tr>\n",
       "  </thead>\n",
       "  <tbody>\n",
       "    <tr>\n",
       "      <th>0</th>\n",
       "      <td>0.847537</td>\n",
       "      <td>0</td>\n",
       "      <td>3.579070</td>\n",
       "      <td>2.050420</td>\n",
       "      <td>0</td>\n",
       "      <td>0</td>\n",
       "      <td>1</td>\n",
       "      <td>0</td>\n",
       "      <td>0</td>\n",
       "      <td>0</td>\n",
       "      <td>...</td>\n",
       "      <td>0.0</td>\n",
       "      <td>0.0</td>\n",
       "      <td>1.0</td>\n",
       "      <td>0.0</td>\n",
       "      <td>0.0</td>\n",
       "      <td>0.0</td>\n",
       "      <td>0.0</td>\n",
       "      <td>0.0</td>\n",
       "      <td>0.0</td>\n",
       "      <td>0.0</td>\n",
       "    </tr>\n",
       "    <tr>\n",
       "      <th>1</th>\n",
       "      <td>-1.518901</td>\n",
       "      <td>0</td>\n",
       "      <td>-0.472861</td>\n",
       "      <td>2.050420</td>\n",
       "      <td>0</td>\n",
       "      <td>0</td>\n",
       "      <td>0</td>\n",
       "      <td>1</td>\n",
       "      <td>0</td>\n",
       "      <td>0</td>\n",
       "      <td>...</td>\n",
       "      <td>0.0</td>\n",
       "      <td>0.0</td>\n",
       "      <td>1.0</td>\n",
       "      <td>0.0</td>\n",
       "      <td>0.0</td>\n",
       "      <td>0.0</td>\n",
       "      <td>0.0</td>\n",
       "      <td>0.0</td>\n",
       "      <td>0.0</td>\n",
       "      <td>0.0</td>\n",
       "    </tr>\n",
       "    <tr>\n",
       "      <th>2</th>\n",
       "      <td>0.847537</td>\n",
       "      <td>1</td>\n",
       "      <td>-0.472861</td>\n",
       "      <td>0.782934</td>\n",
       "      <td>0</td>\n",
       "      <td>0</td>\n",
       "      <td>1</td>\n",
       "      <td>0</td>\n",
       "      <td>0</td>\n",
       "      <td>0</td>\n",
       "      <td>...</td>\n",
       "      <td>0.0</td>\n",
       "      <td>1.0</td>\n",
       "      <td>0.0</td>\n",
       "      <td>0.0</td>\n",
       "      <td>0.0</td>\n",
       "      <td>0.0</td>\n",
       "      <td>0.0</td>\n",
       "      <td>0.0</td>\n",
       "      <td>0.0</td>\n",
       "      <td>0.0</td>\n",
       "    </tr>\n",
       "    <tr>\n",
       "      <th>3</th>\n",
       "      <td>0.847537</td>\n",
       "      <td>1</td>\n",
       "      <td>-0.472861</td>\n",
       "      <td>-0.484552</td>\n",
       "      <td>0</td>\n",
       "      <td>0</td>\n",
       "      <td>0</td>\n",
       "      <td>0</td>\n",
       "      <td>1</td>\n",
       "      <td>0</td>\n",
       "      <td>...</td>\n",
       "      <td>0.0</td>\n",
       "      <td>0.0</td>\n",
       "      <td>0.0</td>\n",
       "      <td>0.0</td>\n",
       "      <td>0.0</td>\n",
       "      <td>1.0</td>\n",
       "      <td>0.0</td>\n",
       "      <td>0.0</td>\n",
       "      <td>0.0</td>\n",
       "      <td>0.0</td>\n",
       "    </tr>\n",
       "    <tr>\n",
       "      <th>4</th>\n",
       "      <td>-1.518901</td>\n",
       "      <td>0</td>\n",
       "      <td>-0.472861</td>\n",
       "      <td>-0.484552</td>\n",
       "      <td>0</td>\n",
       "      <td>0</td>\n",
       "      <td>0</td>\n",
       "      <td>1</td>\n",
       "      <td>0</td>\n",
       "      <td>0</td>\n",
       "      <td>...</td>\n",
       "      <td>0.0</td>\n",
       "      <td>0.0</td>\n",
       "      <td>1.0</td>\n",
       "      <td>0.0</td>\n",
       "      <td>0.0</td>\n",
       "      <td>0.0</td>\n",
       "      <td>0.0</td>\n",
       "      <td>0.0</td>\n",
       "      <td>0.0</td>\n",
       "      <td>0.0</td>\n",
       "    </tr>\n",
       "  </tbody>\n",
       "</table>\n",
       "<p>5 rows × 39 columns</p>\n",
       "</div>"
      ],
      "text/plain": [
       "     Pclass  Sex     SibSp     Parch  Age_Group_Unknown  \\\n",
       "0  0.847537    0  3.579070  2.050420                  0   \n",
       "1 -1.518901    0 -0.472861  2.050420                  0   \n",
       "2  0.847537    1 -0.472861  0.782934                  0   \n",
       "3  0.847537    1 -0.472861 -0.484552                  0   \n",
       "4 -1.518901    0 -0.472861 -0.484552                  0   \n",
       "\n",
       "   Age_Group_Toddler/baby  Age_Group_Child  Age_Group_Young_adult  \\\n",
       "0                       0                1                      0   \n",
       "1                       0                0                      1   \n",
       "2                       0                1                      0   \n",
       "3                       0                0                      0   \n",
       "4                       0                0                      1   \n",
       "\n",
       "   Age_Group_Adult  Age_Group_Elderly  ...  Title_ Major  Title_ Master  \\\n",
       "0                0                  0  ...           0.0            0.0   \n",
       "1                0                  0  ...           0.0            0.0   \n",
       "2                0                  0  ...           0.0            1.0   \n",
       "3                1                  0  ...           0.0            0.0   \n",
       "4                0                  0  ...           0.0            0.0   \n",
       "\n",
       "   Title_ Miss  Title_ Mlle  Title_ Mme  Title_ Mr  Title_ Mrs  Title_ Rev  \\\n",
       "0          1.0          0.0         0.0        0.0         0.0         0.0   \n",
       "1          1.0          0.0         0.0        0.0         0.0         0.0   \n",
       "2          0.0          0.0         0.0        0.0         0.0         0.0   \n",
       "3          0.0          0.0         0.0        1.0         0.0         0.0   \n",
       "4          1.0          0.0         0.0        0.0         0.0         0.0   \n",
       "\n",
       "   Title_ Sir  Title_ the Countess  \n",
       "0         0.0                  0.0  \n",
       "1         0.0                  0.0  \n",
       "2         0.0                  0.0  \n",
       "3         0.0                  0.0  \n",
       "4         0.0                  0.0  \n",
       "\n",
       "[5 rows x 39 columns]"
      ]
     },
     "execution_count": 359,
     "metadata": {},
     "output_type": "execute_result"
    }
   ],
   "source": [
    "from sklearn.preprocessing import StandardScaler\n",
    "\n",
    "\n",
    "scaler = StandardScaler()\n",
    "scaler.fit(X_train.loc[:,(\"Family_Size\",\"SibSp\",\"Parch\",\"Pclass\")])\n",
    "\n",
    "X_train.loc[:,(\"Family_Size\",\"SibSp\",\"Parch\",\"Pclass\")] = scaler.transform(X_train.loc[:,(\"Family_Size\",\"SibSp\",\"Parch\",\"Pclass\")], copy=False)\n",
    "X_val.loc[:,(\"Family_Size\",\"SibSp\",\"Parch\",\"Pclass\")] = scaler.transform(X_val.loc[:,(\"Family_Size\",\"SibSp\",\"Parch\",\"Pclass\")], copy=False)\n",
    "X_train.head()"
   ]
  },
  {
   "cell_type": "markdown",
   "metadata": {},
   "source": [
    "### Feature selection\n",
    "We select features using a logistic regression classifier.\\\n",
    "Classifiers are trained consequently one by one, each with an addiitional feature, in order to find the best number of features for our models."
   ]
  },
  {
   "cell_type": "code",
   "execution_count": 360,
   "metadata": {},
   "outputs": [
    {
     "data": {
      "text/html": [
       "<div>\n",
       "<style scoped>\n",
       "    .dataframe tbody tr th:only-of-type {\n",
       "        vertical-align: middle;\n",
       "    }\n",
       "\n",
       "    .dataframe tbody tr th {\n",
       "        vertical-align: top;\n",
       "    }\n",
       "\n",
       "    .dataframe thead th {\n",
       "        text-align: right;\n",
       "    }\n",
       "</style>\n",
       "<table border=\"1\" class=\"dataframe\">\n",
       "  <thead>\n",
       "    <tr style=\"text-align: right;\">\n",
       "      <th></th>\n",
       "      <th>Pclass</th>\n",
       "      <th>Sex</th>\n",
       "      <th>SibSp</th>\n",
       "      <th>Age_Group_Toddler/baby</th>\n",
       "      <th>Age_Group_Child</th>\n",
       "      <th>Fare_Category_1</th>\n",
       "      <th>Fare_Category_3</th>\n",
       "      <th>Fare_Category_4</th>\n",
       "      <th>Lot_Sib</th>\n",
       "      <th>Lot_Child</th>\n",
       "      <th>Big_Fam</th>\n",
       "      <th>Embarked_0</th>\n",
       "      <th>Title_ Dr</th>\n",
       "      <th>Title_ Jonkheer</th>\n",
       "      <th>Title_ Master</th>\n",
       "      <th>Title_ Mr</th>\n",
       "      <th>Title_ Mrs</th>\n",
       "      <th>Title_ Rev</th>\n",
       "    </tr>\n",
       "  </thead>\n",
       "  <tbody>\n",
       "    <tr>\n",
       "      <th>0</th>\n",
       "      <td>0.847537</td>\n",
       "      <td>0</td>\n",
       "      <td>3.579070</td>\n",
       "      <td>0</td>\n",
       "      <td>1</td>\n",
       "      <td>0</td>\n",
       "      <td>0</td>\n",
       "      <td>0</td>\n",
       "      <td>1</td>\n",
       "      <td>0</td>\n",
       "      <td>1</td>\n",
       "      <td>0.0</td>\n",
       "      <td>0.0</td>\n",
       "      <td>0.0</td>\n",
       "      <td>0.0</td>\n",
       "      <td>0.0</td>\n",
       "      <td>0.0</td>\n",
       "      <td>0.0</td>\n",
       "    </tr>\n",
       "    <tr>\n",
       "      <th>1</th>\n",
       "      <td>-1.518901</td>\n",
       "      <td>0</td>\n",
       "      <td>-0.472861</td>\n",
       "      <td>0</td>\n",
       "      <td>0</td>\n",
       "      <td>0</td>\n",
       "      <td>0</td>\n",
       "      <td>0</td>\n",
       "      <td>0</td>\n",
       "      <td>0</td>\n",
       "      <td>0</td>\n",
       "      <td>1.0</td>\n",
       "      <td>0.0</td>\n",
       "      <td>0.0</td>\n",
       "      <td>0.0</td>\n",
       "      <td>0.0</td>\n",
       "      <td>0.0</td>\n",
       "      <td>0.0</td>\n",
       "    </tr>\n",
       "    <tr>\n",
       "      <th>2</th>\n",
       "      <td>0.847537</td>\n",
       "      <td>1</td>\n",
       "      <td>-0.472861</td>\n",
       "      <td>0</td>\n",
       "      <td>1</td>\n",
       "      <td>1</td>\n",
       "      <td>0</td>\n",
       "      <td>0</td>\n",
       "      <td>0</td>\n",
       "      <td>0</td>\n",
       "      <td>0</td>\n",
       "      <td>0.0</td>\n",
       "      <td>0.0</td>\n",
       "      <td>0.0</td>\n",
       "      <td>1.0</td>\n",
       "      <td>0.0</td>\n",
       "      <td>0.0</td>\n",
       "      <td>0.0</td>\n",
       "    </tr>\n",
       "    <tr>\n",
       "      <th>3</th>\n",
       "      <td>0.847537</td>\n",
       "      <td>1</td>\n",
       "      <td>-0.472861</td>\n",
       "      <td>0</td>\n",
       "      <td>0</td>\n",
       "      <td>1</td>\n",
       "      <td>0</td>\n",
       "      <td>0</td>\n",
       "      <td>0</td>\n",
       "      <td>0</td>\n",
       "      <td>0</td>\n",
       "      <td>0.0</td>\n",
       "      <td>0.0</td>\n",
       "      <td>0.0</td>\n",
       "      <td>0.0</td>\n",
       "      <td>1.0</td>\n",
       "      <td>0.0</td>\n",
       "      <td>0.0</td>\n",
       "    </tr>\n",
       "    <tr>\n",
       "      <th>4</th>\n",
       "      <td>-1.518901</td>\n",
       "      <td>0</td>\n",
       "      <td>-0.472861</td>\n",
       "      <td>0</td>\n",
       "      <td>0</td>\n",
       "      <td>0</td>\n",
       "      <td>0</td>\n",
       "      <td>1</td>\n",
       "      <td>0</td>\n",
       "      <td>0</td>\n",
       "      <td>0</td>\n",
       "      <td>0.0</td>\n",
       "      <td>0.0</td>\n",
       "      <td>0.0</td>\n",
       "      <td>0.0</td>\n",
       "      <td>0.0</td>\n",
       "      <td>0.0</td>\n",
       "      <td>0.0</td>\n",
       "    </tr>\n",
       "  </tbody>\n",
       "</table>\n",
       "</div>"
      ],
      "text/plain": [
       "     Pclass  Sex     SibSp  Age_Group_Toddler/baby  Age_Group_Child  \\\n",
       "0  0.847537    0  3.579070                       0                1   \n",
       "1 -1.518901    0 -0.472861                       0                0   \n",
       "2  0.847537    1 -0.472861                       0                1   \n",
       "3  0.847537    1 -0.472861                       0                0   \n",
       "4 -1.518901    0 -0.472861                       0                0   \n",
       "\n",
       "   Fare_Category_1  Fare_Category_3  Fare_Category_4  Lot_Sib  Lot_Child  \\\n",
       "0                0                0                0        1          0   \n",
       "1                0                0                0        0          0   \n",
       "2                1                0                0        0          0   \n",
       "3                1                0                0        0          0   \n",
       "4                0                0                1        0          0   \n",
       "\n",
       "   Big_Fam  Embarked_0  Title_ Dr  Title_ Jonkheer  Title_ Master  Title_ Mr  \\\n",
       "0        1         0.0        0.0              0.0            0.0        0.0   \n",
       "1        0         1.0        0.0              0.0            0.0        0.0   \n",
       "2        0         0.0        0.0              0.0            1.0        0.0   \n",
       "3        0         0.0        0.0              0.0            0.0        1.0   \n",
       "4        0         0.0        0.0              0.0            0.0        0.0   \n",
       "\n",
       "   Title_ Mrs  Title_ Rev  \n",
       "0         0.0         0.0  \n",
       "1         0.0         0.0  \n",
       "2         0.0         0.0  \n",
       "3         0.0         0.0  \n",
       "4         0.0         0.0  "
      ]
     },
     "execution_count": 360,
     "metadata": {},
     "output_type": "execute_result"
    }
   ],
   "source": [
    "from sklearn.linear_model import LogisticRegression\n",
    "from sklearn.feature_selection import RFECV\n",
    "\n",
    "clf = LogisticRegression()\n",
    "selector = RFECV(clf, min_features_to_select=12, scoring=\"balanced_accuracy\")\n",
    "selector.fit(X_train, y_train)\n",
    "cols = selector.get_support(indices=True)\n",
    "X_train = X_train.iloc[:,cols]\n",
    "X_val = X_val.iloc[:,cols]\n",
    "X_train.head()"
   ]
  },
  {
   "cell_type": "markdown",
   "metadata": {},
   "source": [
    "## Simple Classifiers\n"
   ]
  },
  {
   "cell_type": "markdown",
   "metadata": {},
   "source": [
    "Great \\\n",
    "Lets train some classifiers in order to get a grasp!now we need to make sure we use a validation batch for model selection"
   ]
  },
  {
   "cell_type": "code",
   "execution_count": 362,
   "metadata": {},
   "outputs": [],
   "source": [
    "import scipy.stats as stats\n",
    "from sklearn.metrics import plot_confusion_matrix, f1_score, balanced_accuracy_score\n",
    "from sklearn.model_selection import RandomizedSearchCV, GridSearchCV"
   ]
  },
  {
   "cell_type": "markdown",
   "metadata": {},
   "source": [
    "### Logistic Regression"
   ]
  },
  {
   "cell_type": "code",
   "execution_count": 39,
   "metadata": {},
   "outputs": [
    {
     "name": "stdout",
     "output_type": "stream",
     "text": [
      "train score: 0.811\n",
      "test score: 0.801\n"
     ]
    },
    {
     "data": {
      "image/png": "[encoded data removed]",
      "text/plain": [
       "<Figure size 432x288 with 2 Axes>"
      ]
     },
     "metadata": {
      "needs_background": "light"
     },
     "output_type": "display_data"
    },
    {
     "data": {
      "text/plain": [
       "{'Cs': 100,\n",
       " 'class_weight': None,\n",
       " 'cv': 5,\n",
       " 'dual': False,\n",
       " 'fit_intercept': True,\n",
       " 'intercept_scaling': 1.0,\n",
       " 'l1_ratios': [0.9146605067097656,\n",
       "  0.8664332372748527,\n",
       "  0.42042388127243824,\n",
       "  0.6889026501810949,\n",
       "  0.26179282863783415,\n",
       "  0.4017321141971656,\n",
       "  0.7464528791440445,\n",
       "  0.29385307008703154,\n",
       "  0.24395462798651413,\n",
       "  0.4799126082821178,\n",
       "  0.11258525877530379,\n",
       "  0.6565131583605216,\n",
       "  0.4221042078100208,\n",
       "  0.15724011864055276,\n",
       "  0.08474435516477452,\n",
       "  0.6837901310658233,\n",
       "  0.5180317128627703,\n",
       "  0.4243929095546619,\n",
       "  0.7684964157422561,\n",
       "  0.38705822289255143,\n",
       "  0.4180304910142594,\n",
       "  0.4897981749601973,\n",
       "  0.24093386018083207,\n",
       "  0.2358362668112105,\n",
       "  0.15081299035698592,\n",
       "  0.37013086237147497,\n",
       "  0.7738336901307608,\n",
       "  0.9620537654075872,\n",
       "  0.27286737955634843,\n",
       "  0.05150551109329482,\n",
       "  0.8917971202353427,\n",
       "  0.9555761418710578,\n",
       "  0.7305457819787963,\n",
       "  0.05912633596621786,\n",
       "  0.7327165278350606,\n",
       "  0.7345248836320376,\n",
       "  0.9705448883949983,\n",
       "  0.5489838267283258,\n",
       "  0.4025489244597924,\n",
       "  0.4976945502281913,\n",
       "  0.1995021899591961,\n",
       "  0.33103720404335835,\n",
       "  0.6005990501089895,\n",
       "  0.14708432433649332,\n",
       "  0.5660524424328638,\n",
       "  0.30228625159086353,\n",
       "  0.6640441237805612,\n",
       "  0.09858064022759516,\n",
       "  0.4332554736376989,\n",
       "  0.2861506946946931,\n",
       "  0.2792252929571615,\n",
       "  0.8071811394746055,\n",
       "  0.046172560869084944,\n",
       "  0.32182417131556484,\n",
       "  0.8572765144976682,\n",
       "  0.29740752775570356,\n",
       "  0.580673792039696,\n",
       "  0.24634115090391517,\n",
       "  0.0942777758377662,\n",
       "  0.5435218503221845,\n",
       "  0.7130348004862054,\n",
       "  0.9946977434531028,\n",
       "  0.5025389677034353,\n",
       "  0.6944369724709025,\n",
       "  0.1993983035236231,\n",
       "  0.23189934166130644,\n",
       "  0.7183243794509272,\n",
       "  0.8689210871333005,\n",
       "  0.49849533975226135,\n",
       "  0.03992456653304588,\n",
       "  0.9574885005599726,\n",
       "  0.5059494529421277,\n",
       "  0.6041264017386574,\n",
       "  0.2821503704940226,\n",
       "  0.3580908070276214,\n",
       "  0.6855190880566264,\n",
       "  0.1330692811733598,\n",
       "  0.6939366272708561,\n",
       "  0.32363151948854163,\n",
       "  0.26549162499435996,\n",
       "  0.3928941963596718,\n",
       "  0.25224115033959826,\n",
       "  0.7292704157614858,\n",
       "  0.20428330071161704,\n",
       "  0.49473648756376765,\n",
       "  0.7226502686541593,\n",
       "  0.10570625564454528,\n",
       "  0.7604210140864681,\n",
       "  0.4714102814128024,\n",
       "  0.9199194557038357,\n",
       "  0.15298353456021963,\n",
       "  0.0031090740472387024,\n",
       "  0.5406212644967309,\n",
       "  0.20404954140424347,\n",
       "  0.30111283174675785,\n",
       "  0.10481828213281774,\n",
       "  0.28631058783041274,\n",
       "  0.7957058282708822,\n",
       "  0.7161077148724868,\n",
       "  0.42653898882530095],\n",
       " 'max_iter': 50000,\n",
       " 'multi_class': 'ovr',\n",
       " 'n_jobs': None,\n",
       " 'penalty': 'elasticnet',\n",
       " 'random_state': None,\n",
       " 'refit': True,\n",
       " 'scoring': 'balanced_accuracy',\n",
       " 'solver': 'saga',\n",
       " 'tol': 0.0001,\n",
       " 'verbose': 0}"
      ]
     },
     "execution_count": 39,
     "metadata": {},
     "output_type": "execute_result"
    }
   ],
   "source": [
    "from sklearn.linear_model import LogisticRegressionCV\n",
    "\n",
    "\n",
    "# Applying grid search with randomalized l1_ratios so that queet is actualy an implementation of a random search\n",
    "l1_ratios_list = list(stats.uniform(0,1).rvs(100))\n",
    "log_reg_optimized = LogisticRegressionCV(Cs=100, penalty='elasticnet',solver='saga', cv=5, l1_ratios=l1_ratios_list,\n",
    "                                         scoring='balanced_accuracy', max_iter=50000, multi_class='ovr')\n",
    "\n",
    "log_reg_optimized.fit(X_train, y_train)\n",
    "\n",
    "train_score = log_reg_optimized.score(X_train, y_train)\n",
    "print(f\"train score: {train_score:.3f}\")\n",
    "\n",
    "val_score = log_reg_optimized.score(X_val, y_val)\n",
    "print(f\"Val score: {val_score:.3f}\")\n",
    "plot_confusion_matrix(log_reg_optimized,X_val, y_val)\n",
    "plt.show()\n",
    "log_reg_optimized.get_params()"
   ]
  },
  {
   "cell_type": "code",
   "execution_count": 82,
   "metadata": {},
   "outputs": [
    {
     "data": {
      "text/plain": [
       "array([1.59228279])"
      ]
     },
     "execution_count": 82,
     "metadata": {},
     "output_type": "execute_result"
    }
   ],
   "source": [
    "log_reg_optimized.C_"
   ]
  },
  {
   "cell_type": "markdown",
   "metadata": {},
   "source": [
    "### KNN"
   ]
  },
  {
   "cell_type": "code",
   "execution_count": 40,
   "metadata": {},
   "outputs": [
    {
     "name": "stdout",
     "output_type": "stream",
     "text": [
      "train score: 0.822\n",
      "validation score: 0.784\n",
      "test f1 score: 0.742\n",
      "test accuracy score: 0.808\n"
     ]
    },
    {
     "data": {
      "image/png": "[encoded data removed]",
      "text/plain": [
       "<Figure size 432x288 with 2 Axes>"
      ]
     },
     "metadata": {
      "needs_background": "light"
     },
     "output_type": "display_data"
    }
   ],
   "source": [
    "from sklearn.neighbors import KNeighborsClassifier\n",
    "\n",
    "\n",
    "parameters = {\n",
    "              'n_neighbors':np.arange(1,12), \n",
    "              'p':np.arange(1,6), \n",
    "              'weights':['uniform','distance']\n",
    "             }\n",
    "\n",
    "knn_clf = KNeighborsClassifier()\n",
    "knn_clf_optimized = GridSearchCV(knn_clf, parameters, return_train_score=True, scoring='balanced_accuracy')\n",
    "knn_clf_optimized.fit(X_train, y_train)\n",
    "\n",
    "train_score = balanced_accuracy_score(knn_clf_optimized.predict(X_train), y_train)\n",
    "print(f\"train score: {train_score:.3f}\")\n",
    "\n",
    "print(f\"validation score: {knn_clf_optimized.best_score_:.3f}\")\n",
    "\n",
    "val_score = f1_score(knn_clf_optimized.predict(X_val),y_val)\n",
    "print(f\"val f1 score: {val_score:.3f}\")\n",
    "print(f\"val accuracy score: {balanced_accuracy_score(knn_clf_optimized.predict(X_val), y_val):.3f}\")\n",
    "\n",
    "plot_confusion_matrix(knn_clf_optimized,X_val, y_val)\n",
    "plt.show()"
   ]
  },
  {
   "cell_type": "markdown",
   "metadata": {},
   "source": [
    "### SVM"
   ]
  },
  {
   "cell_type": "code",
   "execution_count": 41,
   "metadata": {},
   "outputs": [
    {
     "name": "stdout",
     "output_type": "stream",
     "text": [
      "train score: 0.824\n",
      "validation score: 0.811\n",
      "test f1 score: 0.752\n",
      "test accuracy score: 0.803\n"
     ]
    },
    {
     "data": {
      "image/png": "[encoded data removed]",
      "text/plain": [
       "<Figure size 432x288 with 2 Axes>"
      ]
     },
     "metadata": {
      "needs_background": "light"
     },
     "output_type": "display_data"
    }
   ],
   "source": [
    "from sklearn.svm import SVC\n",
    "\n",
    "\n",
    "# parameters for later doing parameter tuning through a grid-search\n",
    "parameters = {\n",
    "              'gamma':[\"scale\",\"auto\"],\n",
    "              'class_weight':[None,\"balanced\"], \n",
    "              'C':stats.expon(),\n",
    "              'kernel':['poly','rbf'], \n",
    "              'degree':[1,2,3,4,5],\n",
    "              'decision_function_shape':['ovo']\n",
    "        \n",
    "             }\n",
    "\n",
    "svm_clf = SVC()\n",
    "\n",
    "svm_clf_optimized = RandomizedSearchCV(svm_clf, param_distributions=parameters, n_iter=10000, scoring='balanced_accuracy',return_train_score=True)\n",
    "svm_clf_optimized.fit(X_train, y_train)\n",
    "\n",
    "train_score = balanced_accuracy_score(svm_clf_optimized.predict(X_train), y_train)\n",
    "print(f\"train score: {train_score:.3f}\")\n",
    "\n",
    "print(f\"validation score: {svm_clf_optimized.best_score_:.3f}\")\n",
    "\n",
    "val_score = f1_score(svm_clf_optimized.predict(X_val), y_val)\n",
    "print(f\"val f1 score: {val_score:.3f}\")\n",
    "print(f\"val accuracy score: {balanced_accuracy_score(svm_clf_optimized.predict(X_val), y_val):.3f}\")\n",
    "\n",
    "plot_confusion_matrix(svm_clf_optimized, X_val, y_val)\n",
    "plt.show()"
   ]
  },
  {
   "cell_type": "markdown",
   "metadata": {},
   "source": [
    "### MLP"
   ]
  },
  {
   "cell_type": "code",
   "execution_count": 42,
   "metadata": {},
   "outputs": [
    {
     "name": "stdout",
     "output_type": "stream",
     "text": [
      "train score: 0.839\n",
      "validation score: 0.816\n",
      "test f1 score: 0.723\n",
      "test accuracy score: 0.802\n"
     ]
    },
    {
     "data": {
      "image/png": "[encoded data removed]",
      "text/plain": [
       "<Figure size 432x288 with 2 Axes>"
      ]
     },
     "metadata": {
      "needs_background": "light"
     },
     "output_type": "display_data"
    }
   ],
   "source": [
    "from sklearn.neural_network import MLPClassifier\n",
    "\n",
    "\n",
    "parameters = {'solver':['adam','lbfgs'], \n",
    "              'alpha': stats.expon(),\n",
    "              'hidden_layer_sizes':[(x,) for x in np.arange(20,60)],\n",
    "              'learning_rate_init': stats.uniform(0,1),\n",
    "              'learning_rate': ['constant', 'invscaling', 'adaptive'],\n",
    "              'learning_rate_init': stats.uniform(0,1),\n",
    "              'max_iter':[30000],\n",
    "              'momentum': stats.uniform(0,1),\n",
    "              'nesterovs_momentum': [True, False]\n",
    "             }\n",
    "\n",
    "mlp_clf = MLPClassifier()\n",
    "\n",
    "mlp_clf_optimized = RandomizedSearchCV(mlp_clf, param_distributions=parameters, n_iter=10000, scoring='balanced_accuracy',return_train_score=True)\n",
    "mlp_clf_optimized.fit(X_train, y_train)\n",
    "\n",
    "train_score = balanced_accuracy_score(mlp_clf_optimized.predict(X_train), y_train)\n",
    "print(f\"train score: {train_score:.3f}\")\n",
    "\n",
    "print(f\"validation score: {mlp_clf_optimized.best_score_:.3f}\")\n",
    "\n",
    "val_score = f1_score(mlp_clf_optimized.predict(X_val), y_val)\n",
    "print(f\"val f1 score: {val_score:.3f}\")\n",
    "print(f\"val accuracy score: {balanced_accuracy_score(mlp_clf_optimized.predict(X_val), y_val):.3f}\")\n",
    "\n",
    "plot_confusion_matrix(mlp_clf_optimized, X_val, y_val)\n",
    "plt.show()"
   ]
  },
  {
   "cell_type": "markdown",
   "metadata": {},
   "source": [
    "### Decision-Trees\n",
    "\"Trees have one aspect that prevents them from being the ideal tool for predictive learning, namely inaccuracy.\" - The Elements of Statistical Learning"
   ]
  },
  {
   "cell_type": "code",
   "execution_count": 43,
   "metadata": {},
   "outputs": [
    {
     "name": "stdout",
     "output_type": "stream",
     "text": [
      "train score: 0.836\n",
      "validation score: 0.807\n",
      "test f1 score: 0.758\n",
      "test accuracy score: 0.837\n"
     ]
    },
    {
     "data": {
      "image/png": "[encoded data removed]",
      "text/plain": [
       "<Figure size 432x288 with 2 Axes>"
      ]
     },
     "metadata": {
      "needs_background": "light"
     },
     "output_type": "display_data"
    }
   ],
   "source": [
    "from sklearn.tree import DecisionTreeClassifier, plot_tree\n",
    "\n",
    "\n",
    "clf = DecisionTreeClassifier()\n",
    "alphas = list(clf.cost_complexity_pruning_path(X_train, y_train).ccp_alphas)\n",
    "alphas.append(0)\n",
    "\n",
    "parameters = {'ccp_alpha':alphas,\n",
    "             'max_features':['auto', 'sqrt', \"log2\"],\n",
    "             'class_weight':['balanced',None],\n",
    "              'min_samples_leaf':list(np.arange(1,13)),\n",
    "              'max_depth': [3,4,5,6,7,8,9,10]                               \n",
    "             }\n",
    "optimized_dt = GridSearchCV(clf, parameters,scoring='balanced_accuracy')\n",
    "optimized_dt.fit(X_train, y_train)\n",
    "\n",
    "train_score = balanced_accuracy_score(optimized_dt.predict(X_train), y_train)\n",
    "print(f\"train score: {train_score:.3f}\")\n",
    "\n",
    "print(f\"validation score: {optimized_dt.best_score_:.3f}\")\n",
    "\n",
    "val_score = f1_score(optimized_dt.predict(X_val), y_val)\n",
    "print(f\"val f1 score: {val_score:.3f}\")\n",
    "print(f\"val accuracy score: {balanced_accuracy_score(optimized_dt.predict(X_val), y_val):.3f}\")\n",
    "\n",
    "plot_confusion_matrix(optimized_dt, X_val, y_val)\n",
    "plt.show()"
   ]
  },
  {
   "cell_type": "code",
   "execution_count": 44,
   "metadata": {},
   "outputs": [
    {
     "data": {
      "text/plain": [
       "DecisionTreeClassifier(ccp_alpha=0.0007984414423046222, max_depth=5,\n",
       "                       max_features='log2')"
      ]
     },
     "execution_count": 44,
     "metadata": {},
     "output_type": "execute_result"
    },
    {
     "data": {
      "image/png": "[encoded data removed]",
      "text/plain": [
       "<Figure size 720x720 with 1 Axes>"
      ]
     },
     "metadata": {
      "needs_background": "light"
     },
     "output_type": "display_data"
    }
   ],
   "source": [
    "plt.figure(figsize=(10,10))\n",
    "plot_tree(optimized_dt.best_estimator_)\n",
    "optimized_dt.best_estimator_"
   ]
  },
  {
   "cell_type": "markdown",
   "metadata": {},
   "source": [
    "### Random Forest"
   ]
  },
  {
   "cell_type": "code",
   "execution_count": 78,
   "metadata": {},
   "outputs": [
    {
     "name": "stdout",
     "output_type": "stream",
     "text": [
      "train score: 0.853\n",
      "out-of-bag score: 0.829\n",
      "test f1 score: 0.745\n",
      "test accuracy score: 0.826\n"
     ]
    },
    {
     "data": {
      "image/png": "[encoded data removed]",
      "text/plain": [
       "<Figure size 432x288 with 2 Axes>"
      ]
     },
     "metadata": {
      "needs_background": "light"
     },
     "output_type": "display_data"
    },
    {
     "name": "stdout",
     "output_type": "stream",
     "text": [
      "it took:  109.78848385810852\n"
     ]
    }
   ],
   "source": [
    "from sklearn.ensemble import RandomForestClassifier\n",
    "import time\n",
    "\n",
    "\n",
    "rf_clf = RandomForestClassifier(n_estimators=5000,oob_score=True,n_jobs=-1)\n",
    "\n",
    "ccp_alphas=[0,0.0007984414423046222]\n",
    "parameters = {'ccp_alpha':ccp_alphas,\n",
    "              'min_samples_leaf': [2]             \n",
    "              }\n",
    "\n",
    "# we do grid search and not randomized search since the grid is not too large\n",
    "\n",
    "#################\n",
    "start = time.time()\n",
    "#####################\n",
    "optimized_rf = GridSearchCV(rf_clf, parameters,scoring='balanced_accuracy')\n",
    "\n",
    "optimized_rf.fit(X_train, y_train)\n",
    "\n",
    "train_score = balanced_accuracy_score(optimized_rf.predict(X_train), y_train)\n",
    "print(f\"train score: {train_score:.3f}\")\n",
    "\n",
    "print(f\"out-of-bag score: {optimized_rf.best_estimator_.oob_score_:.3f}\")\n",
    "\n",
    "val_score = f1_score(optimized_rf.predict(X_val), y_val)\n",
    "print(f\"val f1 score: {val_score:.3f}\")\n",
    "print(f\"val accuracy score: {balanced_accuracy_score(optimized_rf.predict(X_val), y_val):.3f}\")\n",
    "\n",
    "plot_confusion_matrix(optimized_rf, X_val, y_val)\n",
    "plt.show()\n",
    "\n",
    "end = time.time()\n",
    "print(\"it took: \", end - start)"
   ]
  },
  {
   "cell_type": "code",
   "execution_count": 77,
   "metadata": {},
   "outputs": [
    {
     "data": {
      "text/plain": [
       "{'ccp_alpha': 0, 'min_samples_leaf': 2}"
      ]
     },
     "execution_count": 77,
     "metadata": {},
     "output_type": "execute_result"
    }
   ],
   "source": [
    "optimized_rf.best_params_"
   ]
  },
  {
   "cell_type": "markdown",
   "metadata": {},
   "source": [
    "### AdaBoost"
   ]
  },
  {
   "cell_type": "code",
   "execution_count": 64,
   "metadata": {},
   "outputs": [
    {
     "name": "stdout",
     "output_type": "stream",
     "text": [
      "train score: 0.811\n",
      "validation score: 0.800\n",
      "test f1 score: 0.736\n",
      "test accuracy score: 0.794\n"
     ]
    },
    {
     "data": {
      "image/png": "[encoded data removed]",
      "text/plain": [
       "<Figure size 432x288 with 2 Axes>"
      ]
     },
     "metadata": {
      "needs_background": "light"
     },
     "output_type": "display_data"
    },
    {
     "name": "stdout",
     "output_type": "stream",
     "text": [
      "it took:  1879.853143453598\n"
     ]
    }
   ],
   "source": [
    "from sklearn.ensemble import AdaBoostClassifier\n",
    "\n",
    "\n",
    "parameters = {\n",
    "          'learning_rate' : stats.uniform(0,4),\n",
    "          'n_estimators':np.arange(100,1000)\n",
    "        }\n",
    "param_comb = 1000\n",
    "\n",
    "start = time.time()\n",
    "\n",
    "adaboost_clf = AdaBoostClassifier()\n",
    "optimized_adaboost_clf = RandomizedSearchCV(adaboost_clf, param_distributions=parameters, n_iter=param_comb, scoring='balanced_accuracy', n_jobs=-1)\n",
    "optimized_adaboost_clf.fit(X_train, y_train)\n",
    "\n",
    "\n",
    "train_score = balanced_accuracy_score(optimized_adaboost_clf.predict(X_train), y_train)\n",
    "print(f\"train score: {train_score:.3f}\")\n",
    "\n",
    "print(f\"validation score: {optimized_adaboost_clf.best_score_:.3f}\")\n",
    "\n",
    "val_score = f1_score(optimized_adaboost_clf.predict(X_val), y_val)\n",
    "print(f\"val f1 score: {val_score:.3f}\")\n",
    "print(f\"val accuracy score: {balanced_accuracy_score(optimized_adaboost_clf.predict(X_val), y_val):.3f}\")\n",
    "\n",
    "plot_confusion_matrix(optimized_adaboost_clf, X_val, y_val)\n",
    "plt.show()\n",
    "\n",
    "end = time.time()\n",
    "print(\"it took: \", end - start)"
   ]
  },
  {
   "cell_type": "markdown",
   "metadata": {},
   "source": [
    "### Gradient Boosting"
   ]
  },
  {
   "cell_type": "code",
   "execution_count": 65,
   "metadata": {},
   "outputs": [
    {
     "name": "stdout",
     "output_type": "stream",
     "text": [
      "Fitting 5 folds for each of 10000 candidates, totalling 50000 fits\n",
      "train score: 0.846\n",
      "validation score: 0.809\n",
      "test f1 score: 0.776\n",
      "test accuracy score: 0.823\n"
     ]
    },
    {
     "data": {
      "image/png": "[encoded data removed]",
      "text/plain": [
       "<Figure size 432x288 with 2 Axes>"
      ]
     },
     "metadata": {
      "needs_background": "light"
     },
     "output_type": "display_data"
    },
    {
     "name": "stdout",
     "output_type": "stream",
     "text": [
      "it took:  8968.944597005844\n"
     ]
    }
   ],
   "source": [
    "from sklearn.ensemble import GradientBoostingClassifier\n",
    "\n",
    "\n",
    "parameters = {\n",
    "                'learning_rate':stats.uniform(0,1), \n",
    "                'subsample': stats.uniform(0,1),\n",
    "                'ccp_alpha':alphas,\n",
    "                'max_depth': [3, 4, 5, 6],\n",
    "                'n_estimators':list(np.arange(100,1000)),\n",
    "                'min_samples_leaf':[1,2,3,4,5]\n",
    "}\n",
    "\n",
    "param_comb = 10000\n",
    "\n",
    "start = time.time()\n",
    "\n",
    "gboost_clf = GradientBoostingClassifier()\n",
    "optimized_gboost_clf = RandomizedSearchCV(gboost_clf, param_distributions=parameters, n_iter=param_comb, scoring='balanced_accuracy', n_jobs=4, verbose=3)\n",
    "optimized_gboost_clf.fit(X_train, y_train)\n",
    "\n",
    "\n",
    "train_score = balanced_accuracy_score(optimized_gboost_clf.predict(X_train), y_train)\n",
    "print(f\"train score: {train_score:.3f}\")\n",
    "\n",
    "print(f\"validation score: {optimized_gboost_clf.best_score_:.3f}\")\n",
    "\n",
    "val_score = f1_score(optimized_gboost_clf.predict(X_val), y_val)\n",
    "print(f\"val f1 score: {val_score:.3f}\")\n",
    "print(f\"val accuracy score: {balanced_accuracy_score(optimized_gboost_clf.predict(X_val), y_val):.3f}\")\n",
    "\n",
    "plot_confusion_matrix(optimized_gboost_clf, X_val, y_val)\n",
    "plt.show()\n",
    "\n",
    "end = time.time()\n",
    "print(\"it took: \", end - start)"
   ]
  },
  {
   "cell_type": "code",
   "execution_count": 73,
   "metadata": {},
   "outputs": [
    {
     "data": {
      "text/html": [
       "<div>\n",
       "<style scoped>\n",
       "    .dataframe tbody tr th:only-of-type {\n",
       "        vertical-align: middle;\n",
       "    }\n",
       "\n",
       "    .dataframe tbody tr th {\n",
       "        vertical-align: top;\n",
       "    }\n",
       "\n",
       "    .dataframe thead th {\n",
       "        text-align: right;\n",
       "    }\n",
       "</style>\n",
       "<table border=\"1\" class=\"dataframe\">\n",
       "  <thead>\n",
       "    <tr style=\"text-align: right;\">\n",
       "      <th></th>\n",
       "      <th>mean_fit_time</th>\n",
       "      <th>std_fit_time</th>\n",
       "      <th>mean_score_time</th>\n",
       "      <th>std_score_time</th>\n",
       "      <th>param_ccp_alpha</th>\n",
       "      <th>param_learning_rate</th>\n",
       "      <th>param_max_depth</th>\n",
       "      <th>param_min_samples_leaf</th>\n",
       "      <th>param_n_estimators</th>\n",
       "      <th>param_subsample</th>\n",
       "      <th>params</th>\n",
       "      <th>split0_test_score</th>\n",
       "      <th>split1_test_score</th>\n",
       "      <th>split2_test_score</th>\n",
       "      <th>split3_test_score</th>\n",
       "      <th>split4_test_score</th>\n",
       "      <th>mean_test_score</th>\n",
       "      <th>std_test_score</th>\n",
       "      <th>rank_test_score</th>\n",
       "    </tr>\n",
       "  </thead>\n",
       "  <tbody>\n",
       "    <tr>\n",
       "      <th>4478</th>\n",
       "      <td>0.264559</td>\n",
       "      <td>0.005494</td>\n",
       "      <td>0.005514</td>\n",
       "      <td>0.001844</td>\n",
       "      <td>0.000671</td>\n",
       "      <td>0.143159</td>\n",
       "      <td>3</td>\n",
       "      <td>3</td>\n",
       "      <td>264</td>\n",
       "      <td>0.909716</td>\n",
       "      <td>{'ccp_alpha': 0.0006706908115358817, 'learning...</td>\n",
       "      <td>0.772569</td>\n",
       "      <td>0.794938</td>\n",
       "      <td>0.763889</td>\n",
       "      <td>0.884921</td>\n",
       "      <td>0.811508</td>\n",
       "      <td>0.805565</td>\n",
       "      <td>0.043061</td>\n",
       "      <td>2</td>\n",
       "    </tr>\n",
       "    <tr>\n",
       "      <th>5865</th>\n",
       "      <td>0.125415</td>\n",
       "      <td>0.003667</td>\n",
       "      <td>0.004006</td>\n",
       "      <td>0.000011</td>\n",
       "      <td>0.001166</td>\n",
       "      <td>0.441674</td>\n",
       "      <td>3</td>\n",
       "      <td>2</td>\n",
       "      <td>124</td>\n",
       "      <td>0.797143</td>\n",
       "      <td>{'ccp_alpha': 0.0011657245057647495, 'learning...</td>\n",
       "      <td>0.772569</td>\n",
       "      <td>0.794938</td>\n",
       "      <td>0.763889</td>\n",
       "      <td>0.884921</td>\n",
       "      <td>0.827381</td>\n",
       "      <td>0.808740</td>\n",
       "      <td>0.043958</td>\n",
       "      <td>1</td>\n",
       "    </tr>\n",
       "  </tbody>\n",
       "</table>\n",
       "</div>"
      ],
      "text/plain": [
       "      mean_fit_time  std_fit_time  mean_score_time  std_score_time  \\\n",
       "4478       0.264559      0.005494         0.005514        0.001844   \n",
       "5865       0.125415      0.003667         0.004006        0.000011   \n",
       "\n",
       "     param_ccp_alpha param_learning_rate param_max_depth  \\\n",
       "4478        0.000671            0.143159               3   \n",
       "5865        0.001166            0.441674               3   \n",
       "\n",
       "     param_min_samples_leaf param_n_estimators param_subsample  \\\n",
       "4478                      3                264        0.909716   \n",
       "5865                      2                124        0.797143   \n",
       "\n",
       "                                                 params  split0_test_score  \\\n",
       "4478  {'ccp_alpha': 0.0006706908115358817, 'learning...           0.772569   \n",
       "5865  {'ccp_alpha': 0.0011657245057647495, 'learning...           0.772569   \n",
       "\n",
       "      split1_test_score  split2_test_score  split3_test_score  \\\n",
       "4478           0.794938           0.763889           0.884921   \n",
       "5865           0.794938           0.763889           0.884921   \n",
       "\n",
       "      split4_test_score  mean_test_score  std_test_score  rank_test_score  \n",
       "4478           0.811508         0.805565        0.043061                2  \n",
       "5865           0.827381         0.808740        0.043958                1  "
      ]
     },
     "execution_count": 73,
     "metadata": {},
     "output_type": "execute_result"
    }
   ],
   "source": [
    "res = pd.DataFrame(optimized_gboost_clf.cv_results_)\n",
    "res[res[\"mean_test_score\"]>0.805]"
   ]
  },
  {
   "cell_type": "markdown",
   "metadata": {},
   "source": [
    "### XGBoost\n",
    "The XGBoost algo was tuned by hand, following the attached tutorial:\\\n",
    "https://towardsdatascience.com/fine-tuning-xgboost-in-python-like-a-boss-b4543ed8b1e"
   ]
  },
  {
   "cell_type": "code",
   "execution_count": 529,
   "metadata": {},
   "outputs": [],
   "source": [
    "import time\n",
    "from scipy import stats\n",
    "from xgboost import XGBClassifier\n",
    "from sklearn.model_selection import RandomizedSearchCV\n",
    "from sklearn.metrics import balanced_accuracy_score, f1_score, plot_confusion_matrix\n",
    "\n",
    "\n",
    "xgb_clf = XGBClassifier(learning_rate=0.01, \n",
    "                        n_estimators=1000, \n",
    "                        max_depth=3, \n",
    "                        subsample=0.85, \n",
    "                        colsample_bytree=1, \n",
    "                        gamma=1, \n",
    "                        use_label_encoder=False)\n",
    "    \n",
    "eval_set = [(X_train, y_train), (X_val, y_val)]\n",
    "eval_metric = [\"auc\",\"error\"]\n",
    "xgb_clf.fit(X_train, y_train, eval_metric=eval_metric, eval_set=eval_set, verbose=False)\n",
    "res = xgb_clf.evals_result()\n"
   ]
  },
  {
   "cell_type": "code",
   "execution_count": 530,
   "metadata": {},
   "outputs": [
    {
     "data": {
      "image/png": "[encoded data removed]",
      "text/plain": [
       "<Figure size 432x288 with 1 Axes>"
      ]
     },
     "metadata": {
      "needs_background": "light"
     },
     "output_type": "display_data"
    }
   ],
   "source": [
    "plt.plot(res[\"validation_0\"]['error'])\n",
    "plt.plot(res[\"validation_1\"]['error'])\n",
    "plt.legend([\"train\",\"val\"])\n",
    "plt.show()"
   ]
  },
  {
   "cell_type": "code",
   "execution_count": 534,
   "metadata": {},
   "outputs": [
    {
     "name": "stdout",
     "output_type": "stream",
     "text": [
      "trainig accuracy score: 0.844\n",
      "val accuracy score: 0.833\n"
     ]
    },
    {
     "data": {
      "image/png": "[encoded data removed]",
      "text/plain": [
       "<Figure size 432x288 with 2 Axes>"
      ]
     },
     "metadata": {
      "needs_background": "light"
     },
     "output_type": "display_data"
    }
   ],
   "source": [
    "print(f\"trainig accuracy score: {balanced_accuracy_score(xgb_clf.predict(X_train), y_train):.3f}\")\n",
    "print(f\"val accuracy score: {balanced_accuracy_score(xgb_clf.predict(X_val), y_val):.3f}\")\n",
    "\n",
    "plot_confusion_matrix(xgb_clf, X_val, y_val)\n",
    "plt.show()"
   ]
  },
  {
   "cell_type": "code",
   "execution_count": null,
   "metadata": {},
   "outputs": [],
   "source": []
  }
 ],
 "metadata": {
  "kernelspec": {
   "display_name": "Python 3",
   "language": "python",
   "name": "python3"
  },
  "language_info": {
   "codemirror_mode": {
    "name": "ipython",
    "version": 3
   },
   "file_extension": ".py",
   "mimetype": "text/x-python",
   "name": "python",
   "nbconvert_exporter": "python",
   "pygments_lexer": "ipython3",
   "version": "3.7.4"
  }
 },
 "nbformat": 4,
 "nbformat_minor": 4
}
